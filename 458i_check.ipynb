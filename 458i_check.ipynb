{
 "metadata": {
  "name": "",
  "signature": "sha256:97f3fb99d29909873d2013a96af2104afe7938501ac31c22cf1377bb865ab331"
 },
 "nbformat": 3,
 "nbformat_minor": 0,
 "worksheets": [
  {
   "cells": [
    {
     "cell_type": "code",
     "collapsed": false,
     "input": [
      "import urllib\n",
      "import urllib2"
     ],
     "language": "python",
     "metadata": {},
     "outputs": [],
     "prompt_number": 1
    },
    {
     "cell_type": "code",
     "collapsed": false,
     "input": [
      "data = {\n",
      "        \"appReceiptNum\" : \"SRC1590108210\"\n",
      "       }\n",
      "\n",
      "encoded_data = urllib.urlencode(data)\n",
      "content = urllib2.urlopen(\"https://egov.uscis.gov/casestatus/mycasestatus.do?action=send\",\n",
      "        encoded_data)\n",
      "L = content.readlines()"
     ],
     "language": "python",
     "metadata": {},
     "outputs": [],
     "prompt_number": 2
    },
    {
     "cell_type": "code",
     "collapsed": false,
     "input": [
      "start = L.index( '\\t\\t\\t    <div class=\"main-row bg-white mt30\">\\r\\n')"
     ],
     "language": "python",
     "metadata": {},
     "outputs": [],
     "prompt_number": 8
    },
    {
     "cell_type": "code",
     "collapsed": false,
     "input": [
      "L[start+19]"
     ],
     "language": "python",
     "metadata": {},
     "outputs": [
      {
       "metadata": {},
       "output_type": "pyout",
       "prompt_number": 13,
       "text": [
        "'\\t              <h1>Case Rejected Because I Sent An Incorrect Fee</h1>\\r\\n'"
       ]
      }
     ],
     "prompt_number": 13
    },
    {
     "cell_type": "code",
     "collapsed": false,
     "input": [
      "L[start+20]"
     ],
     "language": "python",
     "metadata": {},
     "outputs": [
      {
       "metadata": {},
       "output_type": "pyout",
       "prompt_number": 15,
       "text": [
        "'\\t              <p>On December 17, 2014, we rejected your Form I-131, Application For USCIS Travel Document, Receipt Number SRC1590108210, because you sent us the incorrect fee. We mailed your case back to you, including any supporting materials and the incorrect payment. Please follow the instructions to resubmit your case. If you do not receive your rejected case by January 16, 2015, please call Customer Service at 1-800-375-5283. If you move, go to <a href=\"https://egov.uscis.gov/coa/displayCOAForm.do\" target=\"_blank\">www.uscis.gov/addresschange</a> to give us your new mailing address.</p>\\r\\n'"
       ]
      }
     ],
     "prompt_number": 15
    },
    {
     "cell_type": "code",
     "collapsed": false,
     "input": [],
     "language": "python",
     "metadata": {},
     "outputs": []
    }
   ],
   "metadata": {}
  }
 ]
}