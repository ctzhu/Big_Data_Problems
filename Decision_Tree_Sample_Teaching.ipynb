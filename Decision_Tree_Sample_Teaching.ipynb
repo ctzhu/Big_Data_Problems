{
 "cells": [
  {
   "cell_type": "markdown",
   "metadata": {
    "slideshow": {
     "slide_type": "slide"
    }
   },
   "source": [
    "\n",
    "# • Decision Trees\n",
    "\n",
    "• Suggested reading: Chapter 9 of [The Elements of Statistical Learning](http://statweb.stanford.edu/~tibs/ElemStatLearn/)\n",
    "\n",
    "### • Why decision trees?\n",
    "\n",
    "- Can be applied to both regression and classification problems\n",
    "\n",
    "- Many useful properties\n",
    "\n",
    "- Very popular\n",
    "\n",
    "- Basis for more sophisticated models\n",
    "\n",
    "\n",
    "### • Lesson objectives\n",
    "\n",
    "- Understand how a decision tree is created\n",
    "\n",
    "- Build a decision tree model in `scikit-learn`\n",
    "\n",
    "- Tune a decision tree model and explain how tuning impacts the model\n",
    "\n",
    "- Generate and interpret a tree diagram\n",
    "\n",
    "- Understand the key differences between regression and classification trees"
   ]
  },
  {
   "cell_type": "markdown",
   "metadata": {
    "slideshow": {
     "slide_type": "slide"
    }
   },
   "source": [
    "# • Set up"
   ]
  },
  {
   "cell_type": "code",
   "execution_count": 1,
   "metadata": {
    "collapsed": true,
    "slideshow": {
     "slide_type": "fragment"
    }
   },
   "outputs": [],
   "source": [
    "#Don't conda install graphviz\n",
    "#brew install graphviz\n",
    "\n",
    "#if\n",
    "#dyld: Library not loaded: /usr/lib/libltdl.7.dylib\n",
    "#brew install libtool\n",
    "\n",
    "#maybe\n",
    "#sudo chown -R `whoami`:admin /usr/local/share/info\n",
    "#sudo chown -R `whoami`:admin /usr/local/share/man/man5"
   ]
  },
  {
   "cell_type": "code",
   "execution_count": 2,
   "metadata": {
    "collapsed": true,
    "slideshow": {
     "slide_type": "fragment"
    }
   },
   "outputs": [],
   "source": [
    "import scipy.optimize as so\n",
    "import scipy.stats as ss\n",
    "import numpy as np\n",
    "import pandas as pd\n",
    "import sklearn.tree as st\n",
    "import matplotlib.pyplot as plt\n",
    "%matplotlib inline"
   ]
  },
  {
   "cell_type": "markdown",
   "metadata": {
    "slideshow": {
     "slide_type": "slide"
    }
   },
   "source": [
    "# • Intuition\n",
    "\n",
    "- Some part of our data may fit one model, the other part may fit a different model\n",
    "\n",
    "- Ideally, we want to partition our data in some *systematic* way, and fit models individually for each part\n",
    "\n",
    "- *how to partition data into N arbitary partitions? With N unknown (and need to be optimized)?*\n",
    "\n",
    "- Binary partition, however, is very easy to implement\n",
    "\n",
    "- Running binary partition iteratively gives you a branching tree-looking topology"
   ]
  },
  {
   "cell_type": "markdown",
   "metadata": {
    "slideshow": {
     "slide_type": "slide"
    }
   },
   "source": [
    "# • Dummy variable example"
   ]
  },
  {
   "cell_type": "code",
   "execution_count": 3,
   "metadata": {
    "collapsed": false,
    "slideshow": {
     "slide_type": "fragment"
    }
   },
   "outputs": [
    {
     "data": {
      "text/plain": [
       "[<matplotlib.lines.Line2D at 0x1099e5790>]"
      ]
     },
     "execution_count": 3,
     "metadata": {},
     "output_type": "execute_result"
    },
    {
     "data": {
      "image/png": "[encoded data removed]",
      "text/plain": [
       "<matplotlib.figure.Figure at 0x10d202250>"
      ]
     },
     "metadata": {},
     "output_type": "display_data"
    }
   ],
   "source": [
    "x1 = np.linspace(0,  10, 100)\n",
    "x2 = np.linspace(10.001, 20, 100)\n",
    "y1 = x1*6 - 24\n",
    "y2 = x2*2 + 16\n",
    "\n",
    "x  = np.hstack((x1, x2))\n",
    "e  = np.random.normal(0, 1.2, x.shape)\n",
    "y  = np.hstack((y1, y2)) + e\n",
    "e2 = 30 * (0.5 - np.random.random(len(x)/10))\n",
    "y[::10] += e2\n",
    "\n",
    "plt.plot(x, y, '.')"
   ]
  },
  {
   "cell_type": "markdown",
   "metadata": {
    "slideshow": {
     "slide_type": "slide"
    }
   },
   "source": [
    "# • Find the optimal 'split' point with a MSE loss function"
   ]
  },
  {
   "cell_type": "code",
   "execution_count": 4,
   "metadata": {
    "collapsed": false,
    "slideshow": {
     "slide_type": "fragment"
    }
   },
   "outputs": [
    {
     "name": "stdout",
     "output_type": "stream",
     "text": [
      "Optimization terminated successfully.\n",
      "         Current function value: 1669.287831\n",
      "         Iterations: 2\n",
      "         Function evaluations: 31\n"
     ]
    },
    {
     "data": {
      "text/plain": [
       "array(10.523705963054779)"
      ]
     },
     "execution_count": 4,
     "metadata": {},
     "output_type": "execute_result"
    }
   ],
   "source": [
    "def lin_reg_err(lm, x, y):\n",
    "    '''return sum of square errors for a linear model'''\n",
    "    return ((y - lm.slope*x - lm.intercept)**2).sum()\n",
    "\n",
    "def split_reg_err(s, x, y):\n",
    "    '''return sum of square errors for a split linear model'''\n",
    "    x1, x2  = x[x <= s], x[x > s]\n",
    "    y1, y2  = y[x <= s], y[x > s]\n",
    "    lm1 = ss.linregress(x1, y1)\n",
    "    lm2 = ss.linregress(x2, y2)\n",
    "    return lin_reg_err(lm1, x1, y1) + lin_reg_err(lm2, x2, y2)\n",
    "\n",
    "so.fmin_powell(split_reg_err, 5, args=(x, y))"
   ]
  },
  {
   "cell_type": "markdown",
   "metadata": {
    "slideshow": {
     "slide_type": "slide"
    }
   },
   "source": [
    "# • Visualize the result"
   ]
  },
  {
   "cell_type": "code",
   "execution_count": 5,
   "metadata": {
    "collapsed": false,
    "slideshow": {
     "slide_type": "fragment"
    }
   },
   "outputs": [],
   "source": [
    "def lin_reg_pdt(lm, x, y):\n",
    "    '''return prediction of a linear model'''\n",
    "    return lm.slope*x + lm.intercept\n",
    "\n",
    "def split_reg_pdt(s, x, y):\n",
    "    '''return prediction of a split linear model'''\n",
    "    x1, x2  = x[x <= s], x[x > s]\n",
    "    y1, y2  = y[x <= s], y[x > s]\n",
    "    lm1 = ss.linregress(x1, y1)\n",
    "    lm2 = ss.linregress(x2, y2)\n",
    "    return np.hstack((lm1.slope*x1 + lm1.intercept,\n",
    "                      lm2.slope*x2 + lm2.intercept))"
   ]
  },
  {
   "cell_type": "code",
   "execution_count": 6,
   "metadata": {
    "collapsed": false,
    "slideshow": {
     "slide_type": "slide"
    }
   },
   "outputs": [
    {
     "name": "stdout",
     "output_type": "stream",
     "text": [
      "Simple Linear Regression MSE: 42.338\n",
      "\"Split\" Linear Regression MSE: 8.445\n",
      "Actual MSE: 1.602\n"
     ]
    },
    {
     "data": {
      "image/png": "[encoded data removed]",
      "text/plain": [
       "<matplotlib.figure.Figure at 0x10d32c250>"
      ]
     },
     "metadata": {},
     "output_type": "display_data"
    }
   ],
   "source": [
    "plt.plot(x, y, '+', alpha=0.6)\n",
    "\n",
    "lm = ss.linregress(x, y)\n",
    "split = 10.523705963054779\n",
    "\n",
    "plt.plot(x, lin_reg_pdt(lm, x, y), \n",
    "         label = 'Simple linear regression')\n",
    "plt.plot(x, split_reg_pdt(split, x, y), \n",
    "         label = '\"Split\" linear regression')\n",
    "plt.vlines(split, -20, 60, \n",
    "          linestyle = '--', label = \"Split\")\n",
    "plt.legend(loc='lower right')\n",
    "\n",
    "print 'Simple Linear Regression MSE: %3.3f'%(lin_reg_err(lm, x, y)/len(x))\n",
    "print '\"Split\" Linear Regression MSE: %3.3f'%(split_reg_err(split, x, y)/len(x))\n",
    "print 'Actual MSE: %3.3f'%((e**2).sum()/len(x))"
   ]
  },
  {
   "cell_type": "markdown",
   "metadata": {
    "slideshow": {
     "slide_type": "slide"
    }
   },
   "source": [
    "# • Congratulations! You just discovered:\n",
    "\n",
    "- What is essentially a form of [Multivariate adaptive regression splines](https://en.wikipedia.org/wiki/Multivariate_adaptive_regression_splines)\n",
    "\n",
    "- Decision Tree (Decision Tree Regression) is even simpler than the dummy example\n",
    "\n",
    "- Instead of fitting a linear model $y=bx+c$, Decision Tree Regression only fits an intercept $c$ for each partition\n",
    "\n",
    "- Running it iteratively gives you a tree\n",
    "\n",
    "- Decision tree with binary response: Decision Tree Classification.\n",
    "\n",
    "- Classification And Regression Tree (CART)"
   ]
  },
  {
   "cell_type": "markdown",
   "metadata": {
    "slideshow": {
     "slide_type": "slide"
    }
   },
   "source": [
    "# • Decision Tree, the `sklearn` way\n",
    "\n",
    "- Organized in `sklearn.tree` module.\n",
    "\n",
    "- First, set up the learner (`DecisionTreeRegressor` or `DecisionTreeClassifier`)\n",
    "\n",
    "- `.fit` your data."
   ]
  },
  {
   "cell_type": "code",
   "execution_count": 7,
   "metadata": {
    "collapsed": false,
    "slideshow": {
     "slide_type": "fragment"
    }
   },
   "outputs": [
    {
     "data": {
      "text/plain": [
       "DecisionTreeRegressor(criterion='mse', max_depth=1, max_features=None,\n",
       "           max_leaf_nodes=None, min_samples_leaf=1, min_samples_split=2,\n",
       "           min_weight_fraction_leaf=0.0, presort=False, random_state=None,\n",
       "           splitter='best')"
      ]
     },
     "execution_count": 7,
     "metadata": {},
     "output_type": "execute_result"
    }
   ],
   "source": [
    "tree_reg = st.DecisionTreeRegressor(max_depth=1)\n",
    "tree_reg.fit(x.reshape(-1,1), y)"
   ]
  },
  {
   "cell_type": "markdown",
   "metadata": {
    "slideshow": {
     "slide_type": "slide"
    }
   },
   "source": [
    "## • `.predict` your response and visualize the result.\n",
    "\n",
    "## • export the resultant tree to a **[dot](https://en.wikipedia.org/wiki/DOT_(graph_description_language)** (graph description language) file.\n",
    "\n",
    "## • `graphviz` converts `dot` file to image files\n",
    "\n",
    "## • pay attention to `depth` parameter."
   ]
  },
  {
   "cell_type": "code",
   "execution_count": 8,
   "metadata": {
    "collapsed": false,
    "slideshow": {
     "slide_type": "slide"
    }
   },
   "outputs": [
    {
     "data": {
      "image/png": "[encoded data removed]",
      "text/plain": [
       "<matplotlib.figure.Figure at 0x10d35bdd0>"
      ]
     },
     "metadata": {},
     "output_type": "display_data"
    }
   ],
   "source": [
    "plt.plot(x, y, '+', alpha=0.6)\n",
    "\n",
    "prd_1 = tree_reg.predict(x.reshape(-1,1))\n",
    "\n",
    "plt.plot(x, prd_1, \n",
    "         label = 'Decision Tree Regressor')\n",
    "st.export_graphviz(tree_reg, 'simple_reg_tree_1.dot')"
   ]
  },
  {
   "cell_type": "markdown",
   "metadata": {
    "slideshow": {
     "slide_type": "slide"
    }
   },
   "source": [
    "# • What a `dot` file looks like.\n",
    "\n",
    "    # %load simple_reg_tree_1.dot\n",
    "\n",
    "```python\n",
    "digraph Tree {\n",
    "0 [label=\"X[0] <= 7.4242\\nmse = 554.428946089\\nsamples = 200\", shape=\"box\"] ;\n",
    "1 [label=\"mse = 150.3456\\nsamples = 74\\nvalue = [-1.65037839]\", shape=\"box\"] ;\n",
    "0 -> 1 ;\n",
    "2 [label=\"mse = 90.1292\\nsamples = 126\\nvalue = [ 41.89576192]\", shape=\"box\"] ;\n",
    "0 -> 2 ;\n",
    "}\n",
    "```"
   ]
  },
  {
   "cell_type": "code",
   "execution_count": 9,
   "metadata": {
    "collapsed": false,
    "slideshow": {
     "slide_type": "fragment"
    }
   },
   "outputs": [],
   "source": [
    "!dot -Tpng simple_reg_tree_1.dot -o simple_reg_tree_1.png"
   ]
  },
  {
   "cell_type": "markdown",
   "metadata": {
    "slideshow": {
     "slide_type": "fragment"
    }
   },
   "source": [
    "Simple Regression Tree\n",
    "\n",
    "<img src=\"simple_reg_tree_1.png\" alt=\"Simple Regression Tree\" style=\"\">"
   ]
  },
  {
   "cell_type": "markdown",
   "metadata": {
    "slideshow": {
     "slide_type": "slide"
    }
   },
   "source": [
    "## • Multidimensional Decision Tree (more than 1 predictor) \n",
    "\n",
    "![](MD_Tree.png)"
   ]
  },
  {
   "cell_type": "markdown",
   "metadata": {
    "slideshow": {
     "slide_type": "slide"
    }
   },
   "source": [
    "# • Improve fit with increasing `max_depth`"
   ]
  },
  {
   "cell_type": "code",
   "execution_count": 10,
   "metadata": {
    "collapsed": false,
    "slideshow": {
     "slide_type": "fragment"
    }
   },
   "outputs": [
    {
     "data": {
      "image/png": "[encoded data removed]",
      "text/plain": [
       "<matplotlib.figure.Figure at 0x10d71b210>"
      ]
     },
     "metadata": {},
     "output_type": "display_data"
    }
   ],
   "source": [
    "tree_reg.set_params(**{'max_depth': 2})\n",
    "tree_reg.fit(x.reshape(-1,1), y)\n",
    "\n",
    "plt.plot(x, y, '+', alpha=0.6)\n",
    "prd_2 = tree_reg.predict(x.reshape(-1,1))\n",
    "plt.plot(x, \n",
    "         prd_2, \n",
    "         label = 'Decision Tree Regressor')\n",
    "st.export_graphviz(tree_reg, 'simple_reg_tree_2.dot')"
   ]
  },
  {
   "cell_type": "code",
   "execution_count": 11,
   "metadata": {
    "collapsed": true,
    "slideshow": {
     "slide_type": "slide"
    }
   },
   "outputs": [],
   "source": [
    "!dot -Tpng simple_reg_tree.dot -o simple_reg_tree_2.png"
   ]
  },
  {
   "cell_type": "markdown",
   "metadata": {
    "slideshow": {
     "slide_type": "fragment"
    }
   },
   "source": [
    "Simple Regression Tree\n",
    "\n",
    "<img src=\"simple_reg_tree_2.png\" alt=\"Simple Regression Tree\" style=\"\">"
   ]
  },
  {
   "cell_type": "markdown",
   "metadata": {
    "slideshow": {
     "slide_type": "slide"
    }
   },
   "source": [
    "# • Potential overfit with increasing `max_depth`"
   ]
  },
  {
   "cell_type": "code",
   "execution_count": 12,
   "metadata": {
    "collapsed": false,
    "slideshow": {
     "slide_type": "fragment"
    }
   },
   "outputs": [
    {
     "data": {
      "text/plain": [
       "<matplotlib.legend.Legend at 0x10d9526d0>"
      ]
     },
     "execution_count": 12,
     "metadata": {},
     "output_type": "execute_result"
    },
    {
     "data": {
      "image/png": "[encoded data removed]",
      "text/plain": [
       "<matplotlib.figure.Figure at 0x10d72f210>"
      ]
     },
     "metadata": {},
     "output_type": "display_data"
    }
   ],
   "source": [
    "tree_reg.set_params(**{'max_depth': 7})\n",
    "tree_reg.fit(x.reshape(-1,1), y)\n",
    "\n",
    "plt.plot(x, y, '+', alpha=0.6)\n",
    "prd_7 = tree_reg.predict(x.reshape(-1,1))\n",
    "\n",
    "for depth in [1,2,7]:\n",
    "    plt.plot(x, \n",
    "             eval('prd_%s'%depth), \n",
    "             label = 'Depth=%s'%depth)\n",
    "\n",
    "plt.legend(loc='lower right')"
   ]
  },
  {
   "cell_type": "markdown",
   "metadata": {
    "slideshow": {
     "slide_type": "slide"
    }
   },
   "source": [
    "# • Avoid overfit\n",
    "\n",
    "# • Prune your tree!\n",
    "\n",
    "Unfortunately not yet available in `sklearn` https://github.com/scikit-learn/scikit-learn/pull/941\n",
    "\n",
    "# • Control `max_depth` using cross validation\n",
    "\n",
    "# • Use the built-in `diabetes` dataset as an example"
   ]
  },
  {
   "cell_type": "code",
   "execution_count": 13,
   "metadata": {
    "collapsed": false,
    "slideshow": {
     "slide_type": "slide"
    }
   },
   "outputs": [],
   "source": [
    "from sklearn.cross_validation import cross_val_score\n",
    "from sklearn.datasets import load_diabetes\n",
    "diabetes = load_diabetes()\n",
    "\n",
    "tree_reg = st.DecisionTreeRegressor()\n",
    "tree_reg.fit(diabetes.data, diabetes.target)\n",
    "\n",
    "cv_error = []\n",
    "for depth in range(1, 10):\n",
    "    tree_reg.set_params(**{'max_depth': depth})\n",
    "    cv_error.append(np.sqrt(-cross_val_score(tree_reg, diabetes.data,diabetes.target,\n",
    "                                             cv=14, scoring='mean_squared_error')))"
   ]
  },
  {
   "cell_type": "code",
   "execution_count": 14,
   "metadata": {
    "collapsed": false,
    "slideshow": {
     "slide_type": "fragment"
    }
   },
   "outputs": [
    {
     "data": {
      "image/png": "[encoded data removed]",
      "text/plain": [
       "<matplotlib.figure.Figure at 0x10dd5f090>"
      ]
     },
     "metadata": {},
     "output_type": "display_data"
    }
   ],
   "source": [
    "df = pd.DataFrame(np.vstack(cv_error).T)\n",
    "df.plot(kind='box')\n",
    "plt.xlabel('max_depth')\n",
    "plt.ylabel('RMSE')\n",
    "plt.title('Cross-validation error')\n",
    "_ = plt.xticks(range(1, 10), map(str, range(1,10)))"
   ]
  },
  {
   "cell_type": "markdown",
   "metadata": {
    "slideshow": {
     "slide_type": "slide"
    }
   },
   "source": [
    "# • Classification Tree v.s. Regression Tree"
   ]
  },
  {
   "cell_type": "code",
   "execution_count": 15,
   "metadata": {
    "collapsed": false,
    "slideshow": {
     "slide_type": "fragment"
    }
   },
   "outputs": [
    {
     "data": {
      "text/plain": [
       "DecisionTreeClassifier(class_weight=None, criterion='gini', max_depth=None,\n",
       "            max_features=None, max_leaf_nodes=None, min_samples_leaf=1,\n",
       "            min_samples_split=2, min_weight_fraction_leaf=0.0,\n",
       "            presort=False, random_state=None, splitter='best')"
      ]
     },
     "execution_count": 15,
     "metadata": {},
     "output_type": "execute_result"
    }
   ],
   "source": [
    "from sklearn.datasets import load_iris\n",
    "iris = load_iris()\n",
    "tree_clf = st.DecisionTreeClassifier()\n",
    "tree_clf.fit(iris.data, iris.target)"
   ]
  },
  {
   "cell_type": "markdown",
   "metadata": {
    "slideshow": {
     "slide_type": "slide"
    }
   },
   "source": [
    "## • Different loss functions (node impurity function)\n",
    "\n",
    "> `criterion : string, optional (default=\"gini\")`\n",
    "> `   The function to measure the quality of a split. Supported criteria are`\n",
    "> `   \"gini\" for the Gini impurity and \"entropy\" for the information gain.`\n",
    "\n",
    "<img src=\"impurity_fig.png\" alt=\"Multidimensional Decision Tree Tree\" height=\"100\" width=\"700\">\n",
    "<img src=\"impurity_fml.png\" alt=\"Multidimensional Decision Tree Tree\" height=\"100\" width=\"700\">"
   ]
  },
  {
   "cell_type": "markdown",
   "metadata": {
    "slideshow": {
     "slide_type": "slide"
    }
   },
   "source": [
    "# • Making better tree graphs"
   ]
  },
  {
   "cell_type": "code",
   "execution_count": 16,
   "metadata": {
    "collapsed": false,
    "slideshow": {
     "slide_type": "fragment"
    }
   },
   "outputs": [
    {
     "name": "stdout",
     "output_type": "stream",
     "text": [
      "<class 'sklearn.datasets.base.Bunch'>\n",
      "True\n",
      "['target_names', 'data', 'target', 'DESCR', 'feature_names']\n"
     ]
    }
   ],
   "source": [
    "print type(iris)\n",
    "print isinstance(iris, dict)\n",
    "print iris.keys()"
   ]
  },
  {
   "cell_type": "code",
   "execution_count": 17,
   "metadata": {
    "collapsed": false,
    "slideshow": {
     "slide_type": "fragment"
    }
   },
   "outputs": [],
   "source": [
    "st.export_graphviz(tree_clf, out_file='iris.dot',  \n",
    "                   feature_names=iris.feature_names,  \n",
    "                   class_names=iris.target_names,  \n",
    "                   filled=True, rounded=True,  \n",
    "                   special_characters=True) "
   ]
  },
  {
   "cell_type": "code",
   "execution_count": 18,
   "metadata": {
    "collapsed": false,
    "slideshow": {
     "slide_type": "fragment"
    }
   },
   "outputs": [],
   "source": [
    "!dot -Tpng iris.dot -o iris.png"
   ]
  },
  {
   "cell_type": "markdown",
   "metadata": {
    "slideshow": {
     "slide_type": "slide"
    }
   },
   "source": [
    "# • Nice looking customized tree graph\n",
    "\n",
    "<img src=\"iris.png\" alt=\"Simple Regression Tree\" style=\"\">"
   ]
  },
  {
   "cell_type": "markdown",
   "metadata": {
    "slideshow": {
     "slide_type": "slide"
    }
   },
   "source": [
    "# • Access the properties of your tree"
   ]
  },
  {
   "cell_type": "code",
   "execution_count": 19,
   "metadata": {
    "collapsed": false,
    "slideshow": {
     "slide_type": "fragment"
    }
   },
   "outputs": [
    {
     "data": {
      "text/plain": [
       "array([ 0.66666667,  0.        ,  0.5       ,  0.16803841,  0.04079861,\n",
       "        0.        ,  0.        ,  0.44444444,  0.        ,  0.44444444,\n",
       "        0.        ,  0.        ,  0.04253308,  0.44444444,  0.        ,\n",
       "        0.        ,  0.        ])"
      ]
     },
     "execution_count": 19,
     "metadata": {},
     "output_type": "execute_result"
    }
   ],
   "source": [
    "tree_clf.tree_.impurity"
   ]
  },
  {
   "cell_type": "code",
   "execution_count": 20,
   "metadata": {
    "collapsed": false,
    "slideshow": {
     "slide_type": "fragment"
    }
   },
   "outputs": [
    {
     "data": {
      "text/html": [
       "<div>\n",
       "<table border=\"1\" class=\"dataframe\">\n",
       "  <thead>\n",
       "    <tr style=\"text-align: right;\">\n",
       "      <th></th>\n",
       "      <th>feature</th>\n",
       "      <th>importance</th>\n",
       "    </tr>\n",
       "  </thead>\n",
       "  <tbody>\n",
       "    <tr>\n",
       "      <th>0</th>\n",
       "      <td>sepal length (cm)</td>\n",
       "      <td>0.000000</td>\n",
       "    </tr>\n",
       "    <tr>\n",
       "      <th>1</th>\n",
       "      <td>sepal width (cm)</td>\n",
       "      <td>0.013333</td>\n",
       "    </tr>\n",
       "    <tr>\n",
       "      <th>2</th>\n",
       "      <td>petal length (cm)</td>\n",
       "      <td>0.064056</td>\n",
       "    </tr>\n",
       "    <tr>\n",
       "      <th>3</th>\n",
       "      <td>petal width (cm)</td>\n",
       "      <td>0.922611</td>\n",
       "    </tr>\n",
       "  </tbody>\n",
       "</table>\n",
       "</div>"
      ],
      "text/plain": [
       "             feature  importance\n",
       "0  sepal length (cm)    0.000000\n",
       "1   sepal width (cm)    0.013333\n",
       "2  petal length (cm)    0.064056\n",
       "3   petal width (cm)    0.922611"
      ]
     },
     "execution_count": 20,
     "metadata": {},
     "output_type": "execute_result"
    }
   ],
   "source": [
    "pd.DataFrame({'feature':iris.feature_names, \n",
    "              'importance':tree_clf.feature_importances_})"
   ]
  },
  {
   "cell_type": "markdown",
   "metadata": {
    "slideshow": {
     "slide_type": "slide"
    }
   },
   "source": [
    "# • Pros and Cons of decision tree\n",
    "    \n",
    "| **Pros** | **Cons** |\n",
    "|---|---|\n",
    "| Popular real-world data mining algorithm | Can generate large trees that require pruning |\n",
    "| Response can be numerical or categorical variables | Generally poorer predictive power than ANN, SVM or kNN |\n",
    "| Interpretable, white box model | Can overfit |\n",
    "| Robust to outliers, noisy or redundant attributes | Many adjustable parameters |\n",
    "| Good computational scalability |   |\n",
    "| No need to worry about interactions|   |\n",
    "| Automatically does varible selection for you  |   |"
   ]
  },
  {
   "cell_type": "markdown",
   "metadata": {
    "slideshow": {
     "slide_type": "slide"
    }
   },
   "source": [
    "# • What do you can a large number of trees? *Forest*\n",
    "\n",
    "• Emsemble methods: Random Forest"
   ]
  }
 ],
 "metadata": {
  "celltoolbar": "Slideshow",
  "kernelspec": {
   "display_name": "Python 2",
   "language": "python",
   "name": "python2"
  },
  "language_info": {
   "codemirror_mode": {
    "name": "ipython",
    "version": 2
   },
   "file_extension": ".py",
   "mimetype": "text/x-python",
   "name": "python",
   "nbconvert_exporter": "python",
   "pygments_lexer": "ipython2",
   "version": "2.7.11"
  }
 },
 "nbformat": 4,
 "nbformat_minor": 0
}
