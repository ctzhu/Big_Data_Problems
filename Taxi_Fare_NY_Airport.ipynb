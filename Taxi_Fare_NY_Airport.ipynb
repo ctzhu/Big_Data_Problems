{
 "metadata": {
  "name": "",
  "signature": "sha256:850c589fb8dc46d1264680fbc10a7d2a9d82da30c17aa14a5545abbb1af87f97"
 },
 "nbformat": 3,
 "nbformat_minor": 0,
 "worksheets": [
  {
   "cells": [
    {
     "cell_type": "markdown",
     "metadata": {},
     "source": [
      "# 1. Taxi fare in New York City, big data in `Pandas`:"
     ]
    },
    {
     "cell_type": "markdown",
     "metadata": {},
     "source": [
      "## Comparing rides from two major airports, JFK (John F. Kennedy International Airport) and LGA (LaGuardia Airport ):\n",
      "* is one of them more profitable for the taxi drivers? \n",
      "* are the fare compositions different?"
     ]
    },
    {
     "cell_type": "markdown",
     "metadata": {},
     "source": [
      "---\n",
      "* Taxi trip data in New York City are certianly big datasets.  For March 2013 alone, there are 542k taxi trips stored in two files. One file contains various fare related info (such as the amount of tips, tolls etc.) and the other contains trip related info (such as the latitude coordinates, trip durations, etc).  \n",
      "\n",
      "* Two datasets total about 4GB once read as `pandas` `DataFrame`s. Machines with >8GB RAM should be able to handle them entirely in-memory.\n",
      "\n",
      "* Termilogies: Medallion = Taxi, hack_licencse = unique identfication of each driver.\n",
      "\n",
      "* The data are kindly made available by [Chirs Whong](http://chriswhong.com/open-data/foil_nyc_taxi/) and can be downloaded from [here](http://www.andresmh.com/nyctaxitrips/).\n",
      "\n",
      "* Let's see what [`pandas`](http://pandas.pydata.org/) [`scipy`](http://www.scipy.org/) [`numpy`](http://www.numpy.org/) [`matplotlib`](http://matplotlib.org/) [`rpy2`](http://rpy.sourceforge.net/) are capable of, with these reasonably sized 'big data' datasets.\n",
      "---"
     ]
    },
    {
     "cell_type": "markdown",
     "metadata": {},
     "source": [
      "### "
     ]
    },
    {
     "cell_type": "code",
     "collapsed": false,
     "input": [
      "import pandas as pd\n",
      "import numpy as np\n",
      "import time\n",
      "import datetime\n",
      "import scipy.stats as ss\n",
      "import rpy2.robjects as ro\n",
      "import pandas.rpy.common as com\n",
      "%matplotlib inline"
     ],
     "language": "python",
     "metadata": {},
     "outputs": [],
     "prompt_number": 1
    },
    {
     "cell_type": "code",
     "collapsed": false,
     "input": [
      "fare_df = pd.read_csv('trip_fare_3.csv')\n",
      "trip_df = pd.read_csv('trip_data_3.csv')"
     ],
     "language": "python",
     "metadata": {},
     "outputs": [],
     "prompt_number": 2
    },
    {
     "cell_type": "code",
     "collapsed": false,
     "input": [
      "fare_df.columns"
     ],
     "language": "python",
     "metadata": {},
     "outputs": [
      {
       "metadata": {},
       "output_type": "pyout",
       "prompt_number": 3,
       "text": [
        "Index([u'medallion', u' hack_license', u' vendor_id', u' pickup_datetime', u' payment_type', u' fare_amount', u' surcharge', u' mta_tax', u' tip_amount', u' tolls_amount', u' total_amount'], dtype='object')"
       ]
      }
     ],
     "prompt_number": 3
    },
    {
     "cell_type": "code",
     "collapsed": false,
     "input": [
      "trip_df.columns"
     ],
     "language": "python",
     "metadata": {},
     "outputs": [
      {
       "metadata": {},
       "output_type": "pyout",
       "prompt_number": 4,
       "text": [
        "Index([u'medallion', u' hack_license', u' vendor_id', u' rate_code', u' store_and_fwd_flag', u' pickup_datetime', u' dropoff_datetime', u' passenger_count', u' trip_time_in_secs', u' trip_distance', u' pickup_longitude', u' pickup_latitude', u' dropoff_longitude', u' dropoff_latitude'], dtype='object')"
       ]
      }
     ],
     "prompt_number": 4
    },
    {
     "cell_type": "code",
     "collapsed": false,
     "input": [
      "fare_df.columns = [item.replace(' ', '') for item in fare_df.columns]\n",
      "trip_df.columns = [item.replace(' ', '') for item in trip_df.columns]"
     ],
     "language": "python",
     "metadata": {},
     "outputs": [],
     "prompt_number": 5
    },
    {
     "cell_type": "code",
     "collapsed": false,
     "input": [
      "#assuming JFK is at: log -73.7789, lat 40.6397\n",
      "jfk_log = -73.7789\n",
      "jfk_lat =  40.6397\n",
      "trip_df['toJFK_dist'] = np.arccos(np.sin((90. - trip_df.pickup_latitude)*np.pi/180.)*\\\n",
      "                                  np.sin((90. - jfk_lat)*np.pi/180.)*\\\n",
      "                                  np.cos(trip_df.pickup_longitude*np.pi/180. - jfk_log*np.pi/180.)+\\\n",
      "                                  np.cos((90. - trip_df.pickup_latitude)*np.pi/180.)*\\\n",
      "                                  np.cos((90. - jfk_lat)*np.pi/180.))*3960\n",
      "\n",
      "lga_log = -73.872610\n",
      "lga_lat =  40.777250\n",
      "trip_df['toLGA_dist'] = np.arccos(np.sin((90. - trip_df.pickup_latitude)*np.pi/180.)*\\\n",
      "                                  np.sin((90. - lga_lat)*np.pi/180.)*\\\n",
      "                                  np.cos(trip_df.pickup_longitude*np.pi/180. - lga_log*np.pi/180.)+\\\n",
      "                                  np.cos((90. - trip_df.pickup_latitude)*np.pi/180.)*\\\n",
      "                                  np.cos((90. - lga_lat)*np.pi/180.))*3960"
     ],
     "language": "python",
     "metadata": {},
     "outputs": [],
     "prompt_number": 6
    },
    {
     "cell_type": "code",
     "collapsed": false,
     "input": [
      "#Assuming if distance between pickup location and JFK is less than 1 mile\n",
      "# the ride is a ride from JFK. Same for LGA\n",
      "# the combinations of 'medallion', 'hack_license', 'pickup_datetime' serves as unique index for merge.\n",
      "\n",
      "ap_trip_fare_df = pd.merge(left = trip_df.ix[(trip_df.toJFK_dist<1.)|(trip_df.toLGA_dist<1.),\n",
      "                                             ['medallion', 'hack_license', 'pickup_datetime',\n",
      "                                              'dropoff_datetime','toJFK_dist', 'toLGA_dist']],\n",
      "                           right= fare_df[['medallion', 'hack_license', 'pickup_datetime',\n",
      "                                           'fare_amount', 'surcharge', 'mta_tax',\n",
      "                                           'tip_amount', 'tolls_amount', 'total_amount']], \n",
      "                           how = 'inner',\n",
      "                           on =['medallion', 'hack_license', 'pickup_datetime'])\n",
      "ap_trip_fare_df['from_airp'] = np.where((ap_trip_fare_df.toJFK_dist < 1.), 'JFK', 'LGA')\n",
      "ap_trip_fare_df = ap_trip_fare_df.drop(['medallion', 'hack_license', \n",
      "                                        'toJFK_dist', 'toLGA_dist'], axis=1)\n",
      "ap_trip_fare_df.head()"
     ],
     "language": "python",
     "metadata": {},
     "outputs": [
      {
       "html": [
        "<div style=\"max-height:1000px;max-width:1500px;overflow:auto;\">\n",
        "<table border=\"1\" class=\"dataframe\">\n",
        "  <thead>\n",
        "    <tr style=\"text-align: right;\">\n",
        "      <th></th>\n",
        "      <th>pickup_datetime</th>\n",
        "      <th>dropoff_datetime</th>\n",
        "      <th>fare_amount</th>\n",
        "      <th>surcharge</th>\n",
        "      <th>mta_tax</th>\n",
        "      <th>tip_amount</th>\n",
        "      <th>tolls_amount</th>\n",
        "      <th>total_amount</th>\n",
        "      <th>from_airp</th>\n",
        "    </tr>\n",
        "  </thead>\n",
        "  <tbody>\n",
        "    <tr>\n",
        "      <th>0</th>\n",
        "      <td> 2013-03-01 00:00:04</td>\n",
        "      <td> 2013-03-01 00:19:03</td>\n",
        "      <td> 39.5</td>\n",
        "      <td> 0.5</td>\n",
        "      <td> 0.5</td>\n",
        "      <td> 10.10</td>\n",
        "      <td> 0.0</td>\n",
        "      <td> 50.60</td>\n",
        "      <td> JFK</td>\n",
        "    </tr>\n",
        "    <tr>\n",
        "      <th>1</th>\n",
        "      <td> 2013-03-01 00:00:23</td>\n",
        "      <td> 2013-03-01 00:14:56</td>\n",
        "      <td> 25.5</td>\n",
        "      <td> 0.5</td>\n",
        "      <td> 0.5</td>\n",
        "      <td>  6.26</td>\n",
        "      <td> 4.8</td>\n",
        "      <td> 37.56</td>\n",
        "      <td> LGA</td>\n",
        "    </tr>\n",
        "    <tr>\n",
        "      <th>2</th>\n",
        "      <td> 2013-03-01 00:00:53</td>\n",
        "      <td> 2013-03-01 00:30:43</td>\n",
        "      <td> 52.0</td>\n",
        "      <td> 0.0</td>\n",
        "      <td> 0.5</td>\n",
        "      <td> 11.45</td>\n",
        "      <td> 4.8</td>\n",
        "      <td> 68.75</td>\n",
        "      <td> JFK</td>\n",
        "    </tr>\n",
        "    <tr>\n",
        "      <th>3</th>\n",
        "      <td> 2013-03-01 00:05:02</td>\n",
        "      <td> 2013-03-01 00:41:10</td>\n",
        "      <td> 52.0</td>\n",
        "      <td> 0.0</td>\n",
        "      <td> 0.5</td>\n",
        "      <td>  8.00</td>\n",
        "      <td> 4.8</td>\n",
        "      <td> 65.30</td>\n",
        "      <td> JFK</td>\n",
        "    </tr>\n",
        "    <tr>\n",
        "      <th>4</th>\n",
        "      <td> 2013-03-01 00:05:13</td>\n",
        "      <td> 2013-03-01 00:27:13</td>\n",
        "      <td> 52.0</td>\n",
        "      <td> 0.0</td>\n",
        "      <td> 0.5</td>\n",
        "      <td> 11.46</td>\n",
        "      <td> 4.8</td>\n",
        "      <td> 68.76</td>\n",
        "      <td> JFK</td>\n",
        "    </tr>\n",
        "  </tbody>\n",
        "</table>\n",
        "</div>"
       ],
       "metadata": {},
       "output_type": "pyout",
       "prompt_number": 7,
       "text": [
        "       pickup_datetime     dropoff_datetime  fare_amount  surcharge  mta_tax  \\\n",
        "0  2013-03-01 00:00:04  2013-03-01 00:19:03         39.5        0.5      0.5   \n",
        "1  2013-03-01 00:00:23  2013-03-01 00:14:56         25.5        0.5      0.5   \n",
        "2  2013-03-01 00:00:53  2013-03-01 00:30:43         52.0        0.0      0.5   \n",
        "3  2013-03-01 00:05:02  2013-03-01 00:41:10         52.0        0.0      0.5   \n",
        "4  2013-03-01 00:05:13  2013-03-01 00:27:13         52.0        0.0      0.5   \n",
        "\n",
        "   tip_amount  tolls_amount  total_amount from_airp  \n",
        "0       10.10           0.0         50.60       JFK  \n",
        "1        6.26           4.8         37.56       LGA  \n",
        "2       11.45           4.8         68.75       JFK  \n",
        "3        8.00           4.8         65.30       JFK  \n",
        "4       11.46           4.8         68.76       JFK  "
       ]
      }
     ],
     "prompt_number": 7
    },
    {
     "cell_type": "code",
     "collapsed": false,
     "input": [
      "ap_trip_fare_df.shape"
     ],
     "language": "python",
     "metadata": {},
     "outputs": [
      {
       "metadata": {},
       "output_type": "pyout",
       "prompt_number": 8,
       "text": [
        "(542232, 9)"
       ]
      }
     ],
     "prompt_number": 8
    },
    {
     "cell_type": "markdown",
     "metadata": {},
     "source": [
      "# 2. Clean the data"
     ]
    },
    {
     "cell_type": "markdown",
     "metadata": {},
     "source": [
      "---\n",
      "* The rate of making money is probably more important for taxi drivers, so we want to know *per second fare collected*.\n",
      "\n",
      "* A histogram of per-second fare rate will be helpful to visualize the data distribution. \n",
      "\n",
      "* Outliners (extreme values) are removed with an IQR (interquartile range) based rule.\n",
      "---"
     ]
    },
    {
     "cell_type": "code",
     "collapsed": false,
     "input": [
      "ap_trip_fare_df['pickup_datetime'] = pd.to_datetime(ap_trip_fare_df.pickup_datetime)\n",
      "ap_trip_fare_df['dropoff_datetime'] = pd.to_datetime(ap_trip_fare_df.dropoff_datetime)\n",
      "ap_trip_fare_df['trip_time'] = ap_trip_fare_df.dropoff_datetime.apply(lambda x: time.mktime(x.to_pydatetime().timetuple())) -\\\n",
      "                               ap_trip_fare_df.pickup_datetime.apply(lambda x: time.mktime(x.to_pydatetime().timetuple()))"
     ],
     "language": "python",
     "metadata": {},
     "outputs": [],
     "prompt_number": 9
    },
    {
     "cell_type": "code",
     "collapsed": false,
     "input": [
      "#taxi drivers probably care about how much he make every seconds, rather than the raw amount of fare\n",
      "ap_trip_fare_df['totalf_perS'] = ap_trip_fare_df.eval('total_amount / trip_time')\n",
      "ap_trip_fare_df['fare_perS']   = ap_trip_fare_df.eval('fare_amount / trip_time')\n",
      "ap_trip_fare_df['tip_perS']    = ap_trip_fare_df.eval('tip_amount / trip_time')\n",
      "\n",
      "#whenever a division is involved, it is a good precaution to get rid of devided-by-0 entries\n",
      "ap_trip_fare_df                = ap_trip_fare_df[np.isfinite(ap_trip_fare_df['totalf_perS'])]"
     ],
     "language": "python",
     "metadata": {},
     "outputs": [],
     "prompt_number": 10
    },
    {
     "cell_type": "code",
     "collapsed": false,
     "input": [
      "#the data shows a nice distribution in log scale, but is still heavy-tails both sides. \n",
      "_, bins, __, = plt.hist(np.log(ap_trip_fare_df.ix[(ap_trip_fare_df.from_airp=='LGA'), 'totalf_perS'].values),\n",
      "                        bins = 40,\n",
      "                        alpha = 0.5,\n",
      "                        label = 'LGA', \n",
      "                        color = 'B',\n",
      "                        normed = True)\n",
      "\n",
      "plt.hist(np.log(ap_trip_fare_df.ix[(ap_trip_fare_df.from_airp=='JFK'), 'totalf_perS'].values),\n",
      "         bins = bins,\n",
      "         alpha = 0.5,\n",
      "         label = 'JFK', \n",
      "         color = 'R',\n",
      "         normed = True)\n",
      "\n",
      "plt.legend(loc='upper right')\n",
      "#plt.title('Taxi fare comparison: Pickup from two NY airports')\n",
      "plt.xlabel('log(USD per Second)')"
     ],
     "language": "python",
     "metadata": {},
     "outputs": [
      {
       "metadata": {},
       "output_type": "pyout",
       "prompt_number": 11,
       "text": [
        "<matplotlib.text.Text at 0x10f3a6a90>"
       ]
      },
      {
       "metadata": {},
       "output_type": "display_data",
       "png": "[encoded data removed]",
       "text": [
        "<matplotlib.figure.Figure at 0x10f387f90>"
       ]
      }
     ],
     "prompt_number": 11
    },
    {
     "cell_type": "code",
     "collapsed": false,
     "input": [
      "#Get rid of outliners, if the values is above or below 3 interquartile range (IQR) from median\n",
      "iqr_ratio = 2.5\n",
      "cut_off = np.dot(np.percentile(np.log(ap_trip_fare_df['fare_perS']), [25, 75]),\n",
      "                 np.array([[1+iqr_ratio,  -iqr_ratio],\n",
      "                           [ -iqr_ratio, 1+iqr_ratio]]))\n",
      "ap_trip_fare_df = ap_trip_fare_df[(np.log(ap_trip_fare_df['fare_perS']) < cut_off[1])&\\\n",
      "                                  (np.log(ap_trip_fare_df['fare_perS']) > cut_off[0])]"
     ],
     "language": "python",
     "metadata": {},
     "outputs": [],
     "prompt_number": 12
    },
    {
     "cell_type": "code",
     "collapsed": false,
     "input": [
      "#now the data looks a lot cleaner.\n",
      "_, bins, __, = plt.hist(np.log(ap_trip_fare_df.ix[(ap_trip_fare_df.from_airp=='LGA'), 'fare_perS'].values),\n",
      "                        bins = 40,\n",
      "                        alpha = 0.5,\n",
      "                        label = 'LGA', \n",
      "                        color = 'B',\n",
      "                        normed = True)\n",
      "\n",
      "plt.hist(np.log(ap_trip_fare_df.ix[(ap_trip_fare_df.from_airp=='JFK'), 'fare_perS'].values),\n",
      "         bins = bins,\n",
      "         alpha = 0.5,\n",
      "         label = 'JFK', \n",
      "         color = 'R',\n",
      "         normed = True)\n",
      "\n",
      "plt.legend(loc='upper right')\n",
      "plt.title('Taxi fare comparison: Pickup from two NY airports')\n",
      "plt.xlabel('log(USD per Second)')"
     ],
     "language": "python",
     "metadata": {},
     "outputs": [
      {
       "metadata": {},
       "output_type": "pyout",
       "prompt_number": 13,
       "text": [
        "<matplotlib.text.Text at 0x1115d8610>"
       ]
      },
      {
       "metadata": {},
       "output_type": "display_data",
       "png": "[encoded data removed]",
       "text": [
        "<matplotlib.figure.Figure at 0x1115c5450>"
       ]
      }
     ],
     "prompt_number": 13
    },
    {
     "cell_type": "code",
     "collapsed": false,
     "input": [
      "#for tip amount, an additional problem is that there will be a good protion of trips without tip paid.\n",
      "#Some rows might have 0 tip, so we offset the data with a small value 1e-6, in order to plot it in log scale\n",
      "_, bins, __, = plt.hist(np.log(ap_trip_fare_df.ix[(ap_trip_fare_df.from_airp=='LGA'), \n",
      "                                                  'tip_perS'].values+1e-6),\n",
      "                        bins = 40,\n",
      "                        alpha = 0.5,\n",
      "                        label = 'LGA', \n",
      "                        color = 'B',\n",
      "                        normed = True)\n",
      "\n",
      "plt.hist(np.log(ap_trip_fare_df.ix[(ap_trip_fare_df.from_airp=='JFK'), 'tip_perS'].values+1e-6),\n",
      "         bins = bins,\n",
      "         alpha = 0.5,\n",
      "         label = 'JFK', \n",
      "         color = 'R',\n",
      "         normed = True)\n",
      "\n",
      "plt.legend(loc='upper right')\n",
      "plt.title('Taxi tip comparison: Pickup from two NY airports')\n",
      "plt.xlabel('log(USD tip per Second)')\n",
      "\n",
      "#change the first ticklabel to 'no_tip'\n",
      "tick_list = plt.gca().axes.get_xticks().tolist()\n",
      "tick_list[0] = 'No tip'\n",
      "_ = plt.gca().set_xticklabels(tick_list)"
     ],
     "language": "python",
     "metadata": {},
     "outputs": [
      {
       "metadata": {},
       "output_type": "display_data",
       "png": "[encoded data removed]",
       "text": [
        "<matplotlib.figure.Figure at 0x1198a5a90>"
       ]
      }
     ],
     "prompt_number": 14
    },
    {
     "cell_type": "code",
     "collapsed": false,
     "input": [
      "arr1 = ap_trip_fare_df.ix[(ap_trip_fare_df.from_airp=='LGA'), 'fare_perS']\n",
      "arr2 = ap_trip_fare_df.ix[(ap_trip_fare_df.from_airp=='JFK'), 'fare_perS']           \n",
      "print 'The difference in taxi fare between trips from LGA and JFK is %s dollars per min.' \\\n",
      "      %float(arr1.mean()-\\\n",
      "             arr2.mean()*60)\n",
      "print 't-Test on log(taxi_fare/min): t score is %s, p values is %s'\\\n",
      "      %ss.ttest_ind(np.log(arr1), \n",
      "                    np.log(arr2),\n",
      "                    equal_var=False)"
     ],
     "language": "python",
     "metadata": {},
     "outputs": [
      {
       "output_type": "stream",
       "stream": "stdout",
       "text": [
        "The difference in taxi fare between trips from LGA and JFK is -1.38082876833 dollars per min.\n",
        "t-Test on log(taxi_fare/min): t score is -92.3977306346, p values is 0.0"
       ]
      },
      {
       "output_type": "stream",
       "stream": "stdout",
       "text": [
        "\n"
       ]
      }
     ],
     "prompt_number": 15
    },
    {
     "cell_type": "markdown",
     "metadata": {},
     "source": [
      "---\n",
      "Therefore, we see that:\n",
      "\n",
      "* The log-transformed per-second fare rate appears to be quite Guassian.\n",
      "\n",
      "* Trips form JFK is more profitable than trips from LGA, by $1.38 per-minute. One may actually expect this, as JFK handles international flights (LGA doesn't) and therefore sees more passengers without workable knowledge of NYC public transportion system.\n",
      "\n",
      "* No need to say the $1.38 difference is highly significant (with such a large sample size, of course).  \n",
      "\n",
      "* Should a normality test be conducted on 'big data'? Not really: [Is normality testing 'essentially useless'?](http://stats.stackexchange.com/questions/2492/is-normality-testing-essentially-useless.) and [What normality assumptions are required for an unpaired t-test? And when are they met?](http://stats.stackexchange.com/questions/19675/what-normality-assumptions-are-required-for-an-unpaired-t-test-and-when-are-the)\n",
      "\n",
      "* Notice that the proportion of trips without tips paid is higher for the trips taken from JFK.\n",
      "---"
     ]
    },
    {
     "cell_type": "markdown",
     "metadata": {},
     "source": [
      "# 3. Taxi Fare Composition"
     ]
    },
    {
     "cell_type": "markdown",
     "metadata": {},
     "source": [
      "---\n",
      "* Total amount paid can be further broken down to Taxi fare, surchange, tax, tip and tolls expanse.\n",
      "\n",
      "* To test of whether the composition of taxi fare are different between the rides from two airports is a multi-dimensional problem.\n",
      "\n",
      "* There are 5 sub-categories, therefore there are 4 dimensions (all 5 will sum up to 100%).  \n",
      "---"
     ]
    },
    {
     "cell_type": "markdown",
     "metadata": {},
     "source": [
      "### 3.1 Visiualize it using a polar plot"
     ]
    },
    {
     "cell_type": "code",
     "collapsed": false,
     "input": [
      "gpb_fare = ap_trip_fare_df.groupby('from_airp').sum()\n",
      "gpb_fare = (gpb_fare.T/gpb_fare.total_amount.values).T\n",
      "gpb_fare = gpb_fare[['fare_amount', 'surcharge', 'mta_tax', 'tip_amount', 'tolls_amount']]\n",
      "gpb_fare"
     ],
     "language": "python",
     "metadata": {},
     "outputs": [
      {
       "html": [
        "<div style=\"max-height:1000px;max-width:1500px;overflow:auto;\">\n",
        "<table border=\"1\" class=\"dataframe\">\n",
        "  <thead>\n",
        "    <tr style=\"text-align: right;\">\n",
        "      <th></th>\n",
        "      <th>fare_amount</th>\n",
        "      <th>surcharge</th>\n",
        "      <th>mta_tax</th>\n",
        "      <th>tip_amount</th>\n",
        "      <th>tolls_amount</th>\n",
        "    </tr>\n",
        "    <tr>\n",
        "      <th>from_airp</th>\n",
        "      <th></th>\n",
        "      <th></th>\n",
        "      <th></th>\n",
        "      <th></th>\n",
        "      <th></th>\n",
        "    </tr>\n",
        "  </thead>\n",
        "  <tbody>\n",
        "    <tr>\n",
        "      <th>JFK</th>\n",
        "      <td> 0.857144</td>\n",
        "      <td> 0.002667</td>\n",
        "      <td> 0.009207</td>\n",
        "      <td> 0.082931</td>\n",
        "      <td> 0.048051</td>\n",
        "    </tr>\n",
        "    <tr>\n",
        "      <th>LGA</th>\n",
        "      <td> 0.785173</td>\n",
        "      <td> 0.008843</td>\n",
        "      <td> 0.013081</td>\n",
        "      <td> 0.104129</td>\n",
        "      <td> 0.088774</td>\n",
        "    </tr>\n",
        "  </tbody>\n",
        "</table>\n",
        "</div>"
       ],
       "metadata": {},
       "output_type": "pyout",
       "prompt_number": 16,
       "text": [
        "           fare_amount  surcharge   mta_tax  tip_amount  tolls_amount\n",
        "from_airp                                                            \n",
        "JFK           0.857144   0.002667  0.009207    0.082931      0.048051\n",
        "LGA           0.785173   0.008843  0.013081    0.104129      0.088774"
       ]
      }
     ],
     "prompt_number": 16
    },
    {
     "cell_type": "code",
     "collapsed": false,
     "input": [
      "ax = plt.subplot(111, polar=True)\n",
      "ax.grid(True)\n",
      "\n",
      "def weight_plot(ax, data, **kwargs):\n",
      "    d_len = len(data)\n",
      "    data  = np.array(data)\n",
      "    data  = np.hstack((data, data[0:1]))\n",
      "    ax.plot(np.array(range(d_len+1))*2.*np.pi/d_len, \n",
      "            data, \n",
      "            **kwargs)\n",
      "\n",
      "weight_plot(ax, gpb_fare.irow(0).values, color='r', label='JFK')\n",
      "weight_plot(ax, gpb_fare.irow(1).values, color='b', label='LGA')\n",
      "ax.set_rlim(0, 1.2)\n",
      "ax.set_rticks(np.linspace(0,1,5)[1:])\n",
      "ax.set_xticks(np.arange(5)*2*np.pi/5)\n",
      "ax.set_xticklabels(['fare_amount', 'surcharge', 'mta_tax', 'tip_amount', 'tolls_amount'])\n",
      "ax.spines['polar'].set_visible(False)\n",
      "ax.legend(loc = 'lower right')"
     ],
     "language": "python",
     "metadata": {},
     "outputs": [
      {
       "metadata": {},
       "output_type": "pyout",
       "prompt_number": 17,
       "text": [
        "<matplotlib.legend.Legend at 0x112132490>"
       ]
      },
      {
       "metadata": {},
       "output_type": "display_data",
       "png": "[encoded data removed]",
       "text": [
        "<matplotlib.figure.Figure at 0x111fd0c10>"
       ]
      }
     ],
     "prompt_number": 17
    },
    {
     "cell_type": "markdown",
     "metadata": {},
     "source": [
      "---\n",
      "\n",
      "* Rides from JFK appears to have less tolls paid, while have more fare paid, proportionally.\n",
      "\n",
      "---"
     ]
    },
    {
     "cell_type": "markdown",
     "metadata": {},
     "source": [
      "### 3.2. Is the difference statistically significant?"
     ]
    },
    {
     "cell_type": "markdown",
     "metadata": {},
     "source": [
      "---\n",
      "\n",
      "* It makes sense to scale everything with *total_amount*.\n",
      " \n",
      "---"
     ]
    },
    {
     "cell_type": "code",
     "collapsed": false,
     "input": [
      "std_fare = ap_trip_fare_df[['fare_amount','surcharge','mta_tax','tip_amount',\n",
      "                            'tolls_amount','total_amount']]\n",
      "std_fare = (std_fare.T/std_fare.total_amount.values).T\n",
      "std_fare['from_airp'] = ap_trip_fare_df['from_airp']\n",
      "std_fare.drop('total_amount', axis=1, inplace=True)\n",
      "std_fare.head()"
     ],
     "language": "python",
     "metadata": {},
     "outputs": [
      {
       "html": [
        "<div style=\"max-height:1000px;max-width:1500px;overflow:auto;\">\n",
        "<table border=\"1\" class=\"dataframe\">\n",
        "  <thead>\n",
        "    <tr style=\"text-align: right;\">\n",
        "      <th></th>\n",
        "      <th>fare_amount</th>\n",
        "      <th>surcharge</th>\n",
        "      <th>mta_tax</th>\n",
        "      <th>tip_amount</th>\n",
        "      <th>tolls_amount</th>\n",
        "      <th>from_airp</th>\n",
        "    </tr>\n",
        "  </thead>\n",
        "  <tbody>\n",
        "    <tr>\n",
        "      <th>0</th>\n",
        "      <td> 0.780632</td>\n",
        "      <td> 0.009881</td>\n",
        "      <td> 0.009881</td>\n",
        "      <td> 0.199605</td>\n",
        "      <td> 0.000000</td>\n",
        "      <td> JFK</td>\n",
        "    </tr>\n",
        "    <tr>\n",
        "      <th>1</th>\n",
        "      <td> 0.678914</td>\n",
        "      <td> 0.013312</td>\n",
        "      <td> 0.013312</td>\n",
        "      <td> 0.166667</td>\n",
        "      <td> 0.127796</td>\n",
        "      <td> LGA</td>\n",
        "    </tr>\n",
        "    <tr>\n",
        "      <th>2</th>\n",
        "      <td> 0.756364</td>\n",
        "      <td> 0.000000</td>\n",
        "      <td> 0.007273</td>\n",
        "      <td> 0.166545</td>\n",
        "      <td> 0.069818</td>\n",
        "      <td> JFK</td>\n",
        "    </tr>\n",
        "    <tr>\n",
        "      <th>3</th>\n",
        "      <td> 0.796325</td>\n",
        "      <td> 0.000000</td>\n",
        "      <td> 0.007657</td>\n",
        "      <td> 0.122511</td>\n",
        "      <td> 0.073507</td>\n",
        "      <td> JFK</td>\n",
        "    </tr>\n",
        "    <tr>\n",
        "      <th>4</th>\n",
        "      <td> 0.756254</td>\n",
        "      <td> 0.000000</td>\n",
        "      <td> 0.007272</td>\n",
        "      <td> 0.166667</td>\n",
        "      <td> 0.069808</td>\n",
        "      <td> JFK</td>\n",
        "    </tr>\n",
        "  </tbody>\n",
        "</table>\n",
        "</div>"
       ],
       "metadata": {},
       "output_type": "pyout",
       "prompt_number": 18,
       "text": [
        "   fare_amount  surcharge   mta_tax  tip_amount  tolls_amount from_airp\n",
        "0     0.780632   0.009881  0.009881    0.199605      0.000000       JFK\n",
        "1     0.678914   0.013312  0.013312    0.166667      0.127796       LGA\n",
        "2     0.756364   0.000000  0.007273    0.166545      0.069818       JFK\n",
        "3     0.796325   0.000000  0.007657    0.122511      0.073507       JFK\n",
        "4     0.756254   0.000000  0.007272    0.166667      0.069808       JFK"
       ]
      }
     ],
     "prompt_number": 18
    },
    {
     "cell_type": "code",
     "collapsed": false,
     "input": [
      "std_fare.to_csv('std_fare.csv', index=False)"
     ],
     "language": "python",
     "metadata": {},
     "outputs": [],
     "prompt_number": 19
    },
    {
     "cell_type": "markdown",
     "metadata": {},
     "source": [
      "---\n",
      "\n",
      "* this is a [MANOVA](http://en.wikipedia.org/wiki/Multivariate_analysis_of_variance) (Multivariate analysis of variance) problem. Unfortunately, `statsmodel` dose not provided this methods just yet, so we call `R` via `rpy2`.\n",
      "\n",
      "---"
     ]
    },
    {
     "cell_type": "code",
     "collapsed": false,
     "input": [
      "ro.reval(\"setwd('/Users/q6600sl/IPython_NB')\")\n",
      "ro.reval(\"df <- read.csv('std_fare.csv')\")\n",
      "ro.reval(\"attach(df)\")\n",
      "ro.reval(\"Y <- cbind(fare_amount, surcharge, tip_amount, tolls_amount)\")\n",
      "ro.reval(\"fit <- manova(Y ~ from_airp)\")\n",
      "ro.reval(\"smy <- summary(fit)\")"
     ],
     "language": "python",
     "metadata": {},
     "outputs": [
      {
       "metadata": {},
       "output_type": "pyout",
       "prompt_number": 20,
       "text": [
        "<rpy2.rinterface.SexpVector - Python:0x109281af8 / R:0x10569bec8>"
       ]
      }
     ],
     "prompt_number": 20
    },
    {
     "cell_type": "code",
     "collapsed": false,
     "input": [
      "print ro.r.fit"
     ],
     "language": "python",
     "metadata": {},
     "outputs": [
      {
       "output_type": "stream",
       "stream": "stdout",
       "text": [
        "Call:\n",
        "   manova(Y ~ from_airp)\n",
        "\n",
        "Terms:\n",
        "                from_airp Residuals\n",
        "resp 1            723.581  4704.029\n",
        "resp 2              4.225   122.403\n",
        "resp 3             68.719  3542.233\n",
        "resp 4            230.947  1730.726\n",
        "Deg. of Freedom         1    533404\n",
        "\n",
        "Residual standard error: 0.093908920.015148430.081491140.05696211\n",
        "Estimated effects may be unbalanced\n",
        "\n"
       ]
      }
     ],
     "prompt_number": 21
    },
    {
     "cell_type": "code",
     "collapsed": false,
     "input": [
      "print ro.r.smy"
     ],
     "language": "python",
     "metadata": {},
     "outputs": [
      {
       "output_type": "stream",
       "stream": "stdout",
       "text": [
        "              Df Pillai approx F num Df den Df    Pr(>F)    \n",
        "from_airp      1 0.2286    39517      4 533401 < 2.2e-16 ***\n",
        "Residuals 533404                                            \n",
        "---\n",
        "Signif. codes:  0 \u2018***\u2019 0.001 \u2018**\u2019 0.01 \u2018*\u2019 0.05 \u2018.\u2019 0.1 \u2018 \u2019 1\n",
        "\n"
       ]
      }
     ],
     "prompt_number": 22
    },
    {
     "cell_type": "code",
     "collapsed": false,
     "input": [
      "list(ro.r.fit.names)"
     ],
     "language": "python",
     "metadata": {},
     "outputs": [
      {
       "metadata": {},
       "output_type": "pyout",
       "prompt_number": 23,
       "text": [
        "['coefficients',\n",
        " 'residuals',\n",
        " 'effects',\n",
        " 'rank',\n",
        " 'fitted.values',\n",
        " 'assign',\n",
        " 'qr',\n",
        " 'df.residual',\n",
        " 'contrasts',\n",
        " 'xlevels',\n",
        " 'call',\n",
        " 'terms',\n",
        " 'model']"
       ]
      }
     ],
     "prompt_number": 23
    },
    {
     "cell_type": "markdown",
     "metadata": {},
     "source": [
      "---\n",
      " \n",
      "* Instead of just the print-out, result can also be easily retrived using `pandas`.\n",
      "\n",
      "---"
     ]
    },
    {
     "cell_type": "code",
     "collapsed": false,
     "input": [
      "com.convert_robj(ro.r.fit.rx('coefficients'))['coefficients']"
     ],
     "language": "python",
     "metadata": {},
     "outputs": [
      {
       "html": [
        "<div style=\"max-height:1000px;max-width:1500px;overflow:auto;\">\n",
        "<table border=\"1\" class=\"dataframe\">\n",
        "  <thead>\n",
        "    <tr style=\"text-align: right;\">\n",
        "      <th></th>\n",
        "      <th>fare_amount</th>\n",
        "      <th>surcharge</th>\n",
        "      <th>tip_amount</th>\n",
        "      <th>tolls_amount</th>\n",
        "    </tr>\n",
        "  </thead>\n",
        "  <tbody>\n",
        "    <tr>\n",
        "      <th>(Intercept)</th>\n",
        "      <td> 0.870817</td>\n",
        "      <td> 0.004896</td>\n",
        "      <td> 0.071649</td>\n",
        "      <td> 0.040863</td>\n",
        "    </tr>\n",
        "    <tr>\n",
        "      <th>from_airpLGA</th>\n",
        "      <td>-0.074471</td>\n",
        "      <td> 0.005691</td>\n",
        "      <td> 0.022950</td>\n",
        "      <td> 0.042073</td>\n",
        "    </tr>\n",
        "  </tbody>\n",
        "</table>\n",
        "</div>"
       ],
       "metadata": {},
       "output_type": "pyout",
       "prompt_number": 24,
       "text": [
        "              fare_amount  surcharge  tip_amount  tolls_amount\n",
        "(Intercept)      0.870817   0.004896    0.071649      0.040863\n",
        "from_airpLGA    -0.074471   0.005691    0.022950      0.042073"
       ]
      }
     ],
     "prompt_number": 24
    },
    {
     "cell_type": "code",
     "collapsed": false,
     "input": [
      "list(ro.r.smy.names)"
     ],
     "language": "python",
     "metadata": {},
     "outputs": [
      {
       "metadata": {},
       "output_type": "pyout",
       "prompt_number": 25,
       "text": [
        "['row.names', 'SS', 'Eigenvalues', 'stats']"
       ]
      }
     ],
     "prompt_number": 25
    },
    {
     "cell_type": "code",
     "collapsed": false,
     "input": [
      "com.convert_robj(ro.r.smy.rx('stats'))['stats']"
     ],
     "language": "python",
     "metadata": {},
     "outputs": [
      {
       "html": [
        "<div style=\"max-height:1000px;max-width:1500px;overflow:auto;\">\n",
        "<table border=\"1\" class=\"dataframe\">\n",
        "  <thead>\n",
        "    <tr style=\"text-align: right;\">\n",
        "      <th></th>\n",
        "      <th>Df</th>\n",
        "      <th>Pillai</th>\n",
        "      <th>approx F</th>\n",
        "      <th>num Df</th>\n",
        "      <th>den Df</th>\n",
        "      <th>Pr(&gt;F)</th>\n",
        "    </tr>\n",
        "  </thead>\n",
        "  <tbody>\n",
        "    <tr>\n",
        "      <th>from_airp</th>\n",
        "      <td>      1</td>\n",
        "      <td> 0.228597</td>\n",
        "      <td> 39516.877392</td>\n",
        "      <td>  4</td>\n",
        "      <td> 533401</td>\n",
        "      <td>  0</td>\n",
        "    </tr>\n",
        "    <tr>\n",
        "      <th>Residuals</th>\n",
        "      <td> 533404</td>\n",
        "      <td>      NaN</td>\n",
        "      <td>          NaN</td>\n",
        "      <td>NaN</td>\n",
        "      <td>    NaN</td>\n",
        "      <td>NaN</td>\n",
        "    </tr>\n",
        "  </tbody>\n",
        "</table>\n",
        "</div>"
       ],
       "metadata": {},
       "output_type": "pyout",
       "prompt_number": 26,
       "text": [
        "               Df    Pillai      approx F  num Df  den Df  Pr(>F)\n",
        "from_airp       1  0.228597  39516.877392       4  533401       0\n",
        "Residuals  533404       NaN           NaN     NaN     NaN     NaN"
       ]
      }
     ],
     "prompt_number": 26
    },
    {
     "cell_type": "markdown",
     "metadata": {},
     "source": [
      "# 4. Final thoughts"
     ]
    },
    {
     "cell_type": "markdown",
     "metadata": {},
     "source": [
      "---\n",
      "\n",
      "* This example hopefully demonstrates what [`pandas`](http://pandas.pydata.org/) [`scipy`](http://www.scipy.org/) [`numpy`](http://www.numpy.org/) [`matplotlib`](http://matplotlib.org/) [`rpy2`](http://rpy.sourceforge.net/) are capable of, with reasonably sized 'big data' datasets.\n",
      "\n",
      "* Still, preferably, statistical tests should see 'small data' data as much as possible, with only the relevant variables (columns) necessary for the test retained. In this way, everything are in-memory, nice and easy.\n",
      "\n",
      "* This data is arguably not ideal for the MANOVA example, as the *taxi_fare* dominates the *total_taxi_amount* (>75% for rides, from both JFK and LGA), such that the data is very single-dimensioned rather than multi-dimensioned. But it can be imagined that MANOVA can be applied to some more suitable datasets/scenarios in a similar workflow. \n",
      "\n",
      "* Trips form JFK is more profitable than trips from LGA, by $1.38 per-minute. I am actually surprised. I expect a difference, but not such a big one.\n",
      "\n",
      "---\n",
      "\n",
      "###Thanks and Happy Coding. \n",
      "##--CT Zhu"
     ]
    }
   ],
   "metadata": {}
  }
 ]
}