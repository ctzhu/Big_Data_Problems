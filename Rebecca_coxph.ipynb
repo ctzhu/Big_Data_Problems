{
 "metadata": {
  "name": "",
  "signature": "sha256:45e573f6114bd24d87a3197b62fcc0103278a62fd9105ca690279aace2319c56"
 },
 "nbformat": 3,
 "nbformat_minor": 0,
 "worksheets": [
  {
   "cells": [
    {
     "cell_type": "code",
     "collapsed": false,
     "input": [
      "import pandas.rpy.common as com\n",
      "import rpy2.robjects as robjects"
     ],
     "language": "python",
     "metadata": {},
     "outputs": [],
     "prompt_number": 1
    },
    {
     "cell_type": "markdown",
     "metadata": {},
     "source": [
      "#Data wrangling, note that censor flag is not simply based on day 10, as it was described in the text."
     ]
    },
    {
     "cell_type": "code",
     "collapsed": false,
     "input": [
      "df = pd.concat((pd.read_excel('sm-diet-WTF.XLS'),\n",
      "                pd.read_excel('sm-diet-WTM.XLS')))"
     ],
     "language": "python",
     "metadata": {},
     "outputs": [
      {
       "output_type": "stream",
       "stream": "stdout",
       "text": [
        "WARNING *** OLE2 inconsistency: SSCS size is 0 but SSAT size is non-zero\n",
        "WARNING *** OLE2 inconsistency: SSCS size is 0 but SSAT size is non-zero"
       ]
      },
      {
       "output_type": "stream",
       "stream": "stdout",
       "text": [
        "\n"
       ]
      }
     ],
     "prompt_number": 2
    },
    {
     "cell_type": "code",
     "collapsed": false,
     "input": [
      "df['Yeast_str']=df.Yeast.apply(lambda x: '%0.f'%(x*100)+'%')\n",
      "df['Line'] = df.Line.apply(lambda x: x.replace('x', '_'))\n",
      "df.to_csv('Rebecca_all.csv', index=None)\n",
      "df.head()"
     ],
     "language": "python",
     "metadata": {},
     "outputs": [
      {
       "html": [
        "<div style=\"max-height:1000px;max-width:1500px;overflow:auto;\">\n",
        "<table border=\"1\" class=\"dataframe\">\n",
        "  <thead>\n",
        "    <tr style=\"text-align: right;\">\n",
        "      <th></th>\n",
        "      <th>Censor</th>\n",
        "      <th>Chico</th>\n",
        "      <th>Day</th>\n",
        "      <th>Day(set up)</th>\n",
        "      <th>Day(setup)</th>\n",
        "      <th>Death</th>\n",
        "      <th>Line</th>\n",
        "      <th>Sex</th>\n",
        "      <th>Yeast</th>\n",
        "      <th>Yeast%</th>\n",
        "      <th>mtDNA</th>\n",
        "      <th>Yeast_str</th>\n",
        "    </tr>\n",
        "  </thead>\n",
        "  <tbody>\n",
        "    <tr>\n",
        "      <th>0</th>\n",
        "      <td> 1</td>\n",
        "      <td> wt</td>\n",
        "      <td> 10</td>\n",
        "      <td>NaN</td>\n",
        "      <td> 4</td>\n",
        "      <td> 1</td>\n",
        "      <td> _OreR</td>\n",
        "      <td> F</td>\n",
        "      <td> 0</td>\n",
        "      <td> zero%</td>\n",
        "      <td> xmel</td>\n",
        "      <td> 0%</td>\n",
        "    </tr>\n",
        "    <tr>\n",
        "      <th>1</th>\n",
        "      <td> 1</td>\n",
        "      <td> wt</td>\n",
        "      <td> 10</td>\n",
        "      <td>NaN</td>\n",
        "      <td> 4</td>\n",
        "      <td> 1</td>\n",
        "      <td> _OreR</td>\n",
        "      <td> F</td>\n",
        "      <td> 0</td>\n",
        "      <td> zero%</td>\n",
        "      <td> xmel</td>\n",
        "      <td> 0%</td>\n",
        "    </tr>\n",
        "    <tr>\n",
        "      <th>2</th>\n",
        "      <td> 1</td>\n",
        "      <td> wt</td>\n",
        "      <td> 10</td>\n",
        "      <td>NaN</td>\n",
        "      <td> 4</td>\n",
        "      <td> 1</td>\n",
        "      <td> _OreR</td>\n",
        "      <td> F</td>\n",
        "      <td> 0</td>\n",
        "      <td> zero%</td>\n",
        "      <td> xmel</td>\n",
        "      <td> 0%</td>\n",
        "    </tr>\n",
        "    <tr>\n",
        "      <th>3</th>\n",
        "      <td> 1</td>\n",
        "      <td> wt</td>\n",
        "      <td> 10</td>\n",
        "      <td>NaN</td>\n",
        "      <td> 4</td>\n",
        "      <td> 1</td>\n",
        "      <td> _OreR</td>\n",
        "      <td> F</td>\n",
        "      <td> 0</td>\n",
        "      <td> zero%</td>\n",
        "      <td> xmel</td>\n",
        "      <td> 0%</td>\n",
        "    </tr>\n",
        "    <tr>\n",
        "      <th>4</th>\n",
        "      <td> 1</td>\n",
        "      <td> wt</td>\n",
        "      <td> 10</td>\n",
        "      <td>NaN</td>\n",
        "      <td> 4</td>\n",
        "      <td> 1</td>\n",
        "      <td> _OreR</td>\n",
        "      <td> F</td>\n",
        "      <td> 0</td>\n",
        "      <td> zero%</td>\n",
        "      <td> xmel</td>\n",
        "      <td> 0%</td>\n",
        "    </tr>\n",
        "  </tbody>\n",
        "</table>\n",
        "</div>"
       ],
       "metadata": {},
       "output_type": "pyout",
       "prompt_number": 3,
       "text": [
        "   Censor Chico  Day  Day(set up)  Day(setup)  Death   Line Sex  Yeast Yeast%  \\\n",
        "0       1    wt   10          NaN           4      1  _OreR   F      0  zero%   \n",
        "1       1    wt   10          NaN           4      1  _OreR   F      0  zero%   \n",
        "2       1    wt   10          NaN           4      1  _OreR   F      0  zero%   \n",
        "3       1    wt   10          NaN           4      1  _OreR   F      0  zero%   \n",
        "4       1    wt   10          NaN           4      1  _OreR   F      0  zero%   \n",
        "\n",
        "  mtDNA Yeast_str  \n",
        "0  xmel        0%  \n",
        "1  xmel        0%  \n",
        "2  xmel        0%  \n",
        "3  xmel        0%  \n",
        "4  xmel        0%  "
       ]
      }
     ],
     "prompt_number": 3
    },
    {
     "cell_type": "code",
     "collapsed": false,
     "input": [
      "robjects.reval('library(survival)')\n",
      "robjects.reval(\"setwd('/Users/q6600sl/IPython_NB')\")"
     ],
     "language": "python",
     "metadata": {},
     "outputs": [
      {
       "output_type": "stream",
       "stream": "stdout",
       "text": [
        "Loading required package: splines\n"
       ]
      },
      {
       "metadata": {},
       "output_type": "pyout",
       "prompt_number": 4,
       "text": [
        "<rpy2.rinterface.SexpVector - Python:0x10f1fd7b0 / R:0x111fc40f8>"
       ]
      }
     ],
     "prompt_number": 4
    },
    {
     "cell_type": "markdown",
     "metadata": {},
     "source": [
      "#In `R`, the Grambsh & Therneau Test for Proportional Hazard Assumption is available for `cox.zph()` function\n",
      "#In `SAS 9`, the Lin, Wen and Yang Test for Proportional Hazard Assumption is available using `access` clause of `phreg` proceedure.\n",
      "#In `R`, `cox.zph`, the `GLOBAL` test provided a test for proportional hazard assumption"
     ]
    },
    {
     "cell_type": "markdown",
     "metadata": {},
     "source": [
      "####Referenece:\n",
      "####P. Grambsch and T. Therneau (1994), Proportional hazards tests and diagnostics based on weighted residuals. Biometrika, 81, 515-26.\n",
      "####D. Lin, L. J. Wei, and Z. Ying (1993), \u201cChecking the Cox Model with Cumulative Sums of Martingale-Based Residuals,\u201d Biometrika, 80, 557\u2013572.\n",
      "####http://stat.ethz.ch/R-manual/R-devel/library/survival/html/cox.zph.html\n",
      "####http://support.sas.com/documentation/cdl/en/statug/63033/HTML/default/viewer.htm#statug_phreg_sect007.htm"
     ]
    },
    {
     "cell_type": "code",
     "collapsed": false,
     "input": [
      "coxmld_list_f =[]\n",
      "coxzph_list_f =[]\n",
      "coxsmy_list_f =[]\n",
      "\n",
      "for item in ['0', '2', '6', '12']:\n",
      "    _df = df.ix[(df.Yeast_str==(item+'%'))&(df.Sex=='F')]\n",
      "    _df.to_csv('temp.csv', index=None)\n",
      "    robjects.reval(\"df = read.csv('temp.csv')\")\n",
      "    robjects.reval('f1 = coxph(Surv(Day, event=1-Censor)~Line, data=df)')\n",
      "    robjects.reval(\"z1 = cox.zph(f1)\")\n",
      "    robjects.reval(\"s1 = summary(f1)\")\n",
      "    coxmld_list_f.append(robjects.r.f1)\n",
      "    coxzph_list_f.append(robjects.r.z1)\n",
      "    coxsmy_list_f.append(robjects.r.s1)"
     ],
     "language": "python",
     "metadata": {},
     "outputs": [],
     "prompt_number": 5
    },
    {
     "cell_type": "markdown",
     "metadata": {},
     "source": [
      "#Female on 4 different diets\n",
      "#Proportional Hazard Assumption rejected (except weakly so for 6%)\n",
      "#The number of observations and number of events match Table 2\n",
      "#None of the parameter estimates nor the SE matchs Table2"
     ]
    },
    {
     "cell_type": "code",
     "collapsed": false,
     "input": [
      "for yst, zph in zip(['0', '2', '6', '12'],\n",
      "                    coxzph_list_f):\n",
      "    print \"Grambsh & Therneau Test for Proportional Hazard\"\n",
      "    print \"Female, Yeast level: %s\"%yst\n",
      "    print zph"
     ],
     "language": "python",
     "metadata": {},
     "outputs": [
      {
       "output_type": "stream",
       "stream": "stdout",
       "text": [
        "Grambsh & Therneau Test for Proportional Hazard\n",
        "Female, Yeast level: 0\n",
        "              rho  chisq      p\n",
        "Linesm21  0.00356 0.0146 0.9039\n",
        "Linesm22 -0.05634 3.6956 0.0546\n",
        "Linesm38  0.02115 0.5144 0.4732\n",
        "GLOBAL         NA 7.9612 0.0468\n",
        "\n",
        "Grambsh & Therneau Test for Proportional Hazard\n",
        "Female, Yeast level: 2\n",
        "             rho chisq      p\n",
        "Linesm21 -0.0142 0.203 0.6526\n",
        "Linesm22 -0.0319 1.013 0.3141\n",
        "Linesm38  0.0544 2.983 0.0842\n",
        "GLOBAL        NA 7.683 0.0530\n",
        "\n",
        "Grambsh & Therneau Test for Proportional Hazard\n",
        "Female, Yeast level: 6\n",
        "             rho chisq      p\n",
        "Linesm21 -0.0173 0.307 0.5796\n",
        "Linesm22  0.0325 1.086 0.2974\n",
        "Linesm38  0.0535 2.962 0.0852\n",
        "GLOBAL        NA 6.037 0.1098\n",
        "\n",
        "Grambsh & Therneau Test for Proportional Hazard\n",
        "Female, Yeast level: 12\n",
        "              rho   chisq      p\n",
        "Linesm21  0.04536 2.16147 0.1415\n",
        "Linesm22 -0.04343 1.94499 0.1631\n",
        "Linesm38  0.00215 0.00481 0.9447\n",
        "GLOBAL         NA 8.51022 0.0366\n"
       ]
      },
      {
       "output_type": "stream",
       "stream": "stdout",
       "text": [
        "\n"
       ]
      }
     ],
     "prompt_number": 6
    },
    {
     "cell_type": "code",
     "collapsed": false,
     "input": [
      "#get the number of uncensored:\n",
      "for yst, mld in zip(['0', '2', '6', '12'],\n",
      "                    coxmld_list_f):\n",
      "    print \"Number of Total observations\"\n",
      "    print \"Female, Yeast level: %s\"%yst\n",
      "    print mld.rx2('n')"
     ],
     "language": "python",
     "metadata": {},
     "outputs": [
      {
       "output_type": "stream",
       "stream": "stdout",
       "text": [
        "Number of Total observations\n",
        "Female, Yeast level: 0\n",
        "[1] 1164\n",
        "\n",
        "Number of Total observations\n",
        "Female, Yeast level: 2\n",
        "[1] 1076\n",
        "\n",
        "Number of Total observations\n",
        "Female, Yeast level: 6\n",
        "[1] 1175\n",
        "\n",
        "Number of Total observations\n",
        "Female, Yeast level: 12\n",
        "[1] 1192\n",
        "\n"
       ]
      }
     ],
     "prompt_number": 7
    },
    {
     "cell_type": "code",
     "collapsed": false,
     "input": [
      "#get the number of uncensored:\n",
      "for yst, mld in zip(['0', '2', '6', '12'],\n",
      "                    coxmld_list_f):\n",
      "    print \"Number of Uncencored observations\"\n",
      "    print \"Female, Yeast level: %s\"%yst\n",
      "    print mld.rx2('nevent')"
     ],
     "language": "python",
     "metadata": {},
     "outputs": [
      {
       "output_type": "stream",
       "stream": "stdout",
       "text": [
        "Number of Uncencored observations\n",
        "Female, Yeast level: 0\n",
        "[1] 1150\n",
        "\n",
        "Number of Uncencored observations\n",
        "Female, Yeast level: 2\n",
        "[1] 977\n",
        "\n",
        "Number of Uncencored observations\n",
        "Female, Yeast level: 6\n",
        "[1] 1024\n",
        "\n",
        "Number of Uncencored observations\n",
        "Female, Yeast level: 12\n",
        "[1] 1049\n",
        "\n"
       ]
      }
     ],
     "prompt_number": 8
    },
    {
     "cell_type": "code",
     "collapsed": false,
     "input": [
      "#get the number of hazard ratios:\n",
      "for yst, mld in zip(['0', '2', '6', '12'],\n",
      "                    coxsmy_list_f):\n",
      "    print \"Coefficients\"\n",
      "    print \"Female, Yeast level: %s\"%yst\n",
      "    print mld.rx2('conf.int')"
     ],
     "language": "python",
     "metadata": {},
     "outputs": [
      {
       "output_type": "stream",
       "stream": "stdout",
       "text": [
        "Coefficients\n",
        "Female, Yeast level: 0\n",
        "         exp(coef) exp(-coef) lower .95 upper .95\n",
        "Linesm21 0.8007437   1.248839 0.6767885 0.9474015\n",
        "Linesm22 0.6955659   1.437678 0.5896471 0.8205110\n",
        "Linesm38 0.9165991   1.090990 0.7800592 1.0770386\n",
        "\n",
        "Coefficients\n",
        "Female, Yeast level: 2\n",
        "         exp(coef) exp(-coef) lower .95 upper .95\n",
        "Linesm21  2.878631  0.3473874  2.412601  3.434680\n",
        "Linesm22  2.405159  0.4157729  2.000745  2.891317\n",
        "Linesm38  2.296441  0.4354564  1.871751  2.817492\n",
        "\n",
        "Coefficients\n",
        "Female, Yeast level: 6\n",
        "         exp(coef) exp(-coef) lower .95 upper .95\n",
        "Linesm21 0.8804609  1.1357687 0.7408659 1.0463587\n",
        "Linesm22 0.8331649  1.2002426 0.7019266 0.9889408\n",
        "Linesm38 1.3285310  0.7527111 1.1157324 1.5819157\n",
        "\n",
        "Coefficients\n",
        "Female, Yeast level: 12\n",
        "         exp(coef) exp(-coef) lower .95 upper .95\n",
        "Linesm21  1.552342  0.6441878  1.307213  1.843439\n",
        "Linesm22  1.813776  0.5513361  1.526377  2.155288\n",
        "Linesm38  1.699857  0.5882849  1.423921  2.029265\n",
        "\n"
       ]
      }
     ],
     "prompt_number": 9
    },
    {
     "cell_type": "markdown",
     "metadata": {},
     "source": [
      "#Males on 4 different diets\n",
      "#Proportional Hazard Assumption rejected (except weakly so for 6%)\n",
      "#The number of observations and number of events match Table 3\n",
      "#None of the parameter estimates nor the SE matchs Table2"
     ]
    },
    {
     "cell_type": "code",
     "collapsed": false,
     "input": [
      "coxmld_list_m =[]\n",
      "coxzph_list_m =[]\n",
      "coxsmy_list_m =[]\n",
      "\n",
      "for item in ['0', '2', '6', '12']:\n",
      "    _df = df.ix[(df.Yeast_str==(item+'%'))&(df.Sex=='M')]\n",
      "    _df.to_csv('temp.csv', index=None)\n",
      "    robjects.reval(\"df = read.csv('temp.csv')\")\n",
      "    robjects.reval('f1 = coxph(Surv(Day, event=1-Censor)~Line, data=df)')\n",
      "    robjects.reval(\"z1 = cox.zph(f1)\")\n",
      "    robjects.reval(\"s1 = summary(f1)\")\n",
      "    coxmld_list_m.append(robjects.r.f1)\n",
      "    coxzph_list_m.append(robjects.r.z1)\n",
      "    coxsmy_list_m.append(robjects.r.s1)"
     ],
     "language": "python",
     "metadata": {},
     "outputs": [],
     "prompt_number": 10
    },
    {
     "cell_type": "code",
     "collapsed": false,
     "input": [
      "for yst, zph in zip(['0', '2', '6', '12'],\n",
      "                    coxzph_list_m):\n",
      "    print \"Grambsh & Therneau Test for Proptional Hazard\"\n",
      "    print \"Male, Yeast level: %s\"%yst\n",
      "    print zph"
     ],
     "language": "python",
     "metadata": {},
     "outputs": [
      {
       "output_type": "stream",
       "stream": "stdout",
       "text": [
        "Grambsh & Therneau Test for Proptional Hazard\n",
        "Male, Yeast level: 0\n",
        "             rho  chisq       p\n",
        "Linesm21 -0.0130  0.229 0.63223\n",
        "Linesm22 -0.0298  1.213 0.27075\n",
        "Linesm38 -0.0889 10.724 0.00106\n",
        "GLOBAL        NA 13.702 0.00334\n",
        "\n",
        "Grambsh & Therneau Test for Proptional Hazard\n",
        "Male, Yeast level: 2\n",
        "             rho  chisq       p\n",
        "Linesm21 0.01607 0.2610 0.60944\n",
        "Linesm22 0.00873 0.0765 0.78209\n",
        "Linesm38 0.08278 6.9606 0.00833\n",
        "GLOBAL        NA 8.4782 0.03710\n",
        "\n",
        "Grambsh & Therneau Test for Proptional Hazard\n",
        "Male, Yeast level: 6\n",
        "            rho  chisq       p\n",
        "Linesm21 0.0922  8.912 0.00283\n",
        "Linesm22 0.0728  5.482 0.01922\n",
        "Linesm38 0.0268  0.759 0.38379\n",
        "GLOBAL       NA 10.914 0.01220\n",
        "\n",
        "Grambsh & Therneau Test for Proptional Hazard\n",
        "Male, Yeast level: 12\n",
        "             rho  chisq      p\n",
        "Linesm21 0.06987 5.8531 0.0155\n",
        "Linesm22 0.05372 3.5855 0.0583\n",
        "Linesm38 0.00561 0.0391 0.8432\n",
        "GLOBAL        NA 8.3050 0.0401\n",
        "\n"
       ]
      }
     ],
     "prompt_number": 11
    },
    {
     "cell_type": "code",
     "collapsed": false,
     "input": [
      "#get the number of uncensored:\n",
      "for yst, mld in zip(['0', '2', '6', '12'],\n",
      "                    coxmld_list_m):\n",
      "    print \"Number of Total observations\"\n",
      "    print \"Male, Yeast level: %s\"%yst\n",
      "    print mld.rx2('n')"
     ],
     "language": "python",
     "metadata": {},
     "outputs": [
      {
       "output_type": "stream",
       "stream": "stdout",
       "text": [
        "Number of Total observations\n",
        "Male, Yeast level: 0\n",
        "[1] 1373\n",
        "\n",
        "Number of Total observations\n",
        "Male, Yeast level: 2\n",
        "[1] 1041\n",
        "\n",
        "Number of Total observations\n",
        "Male, Yeast level: 6\n",
        "[1] 1121\n",
        "\n",
        "Number of Total observations\n",
        "Male, Yeast level: 12\n",
        "[1] 1282\n",
        "\n"
       ]
      }
     ],
     "prompt_number": 12
    },
    {
     "cell_type": "code",
     "collapsed": false,
     "input": [
      "#get the number of uncensored:\n",
      "for yst, mld in zip(['0', '2', '6', '12'],\n",
      "                    coxmld_list_m):\n",
      "    print \"Number of Uncencored observations\"\n",
      "    print \"Female, Yeast level: %s\"%yst\n",
      "    print mld.rx2('nevent')"
     ],
     "language": "python",
     "metadata": {},
     "outputs": [
      {
       "output_type": "stream",
       "stream": "stdout",
       "text": [
        "Number of Uncencored observations\n",
        "Female, Yeast level: 0\n",
        "[1] 1362\n",
        "\n",
        "Number of Uncencored observations\n",
        "Female, Yeast level: 2\n",
        "[1] 992\n",
        "\n",
        "Number of Uncencored observations\n",
        "Female, Yeast level: 6\n",
        "[1] 1041\n",
        "\n",
        "Number of Uncencored observations\n",
        "Female, Yeast level: 12\n",
        "[1] 1234\n",
        "\n"
       ]
      }
     ],
     "prompt_number": 13
    },
    {
     "cell_type": "code",
     "collapsed": false,
     "input": [
      "#get the number of hazard ratios:\n",
      "for yst, mld in zip(['0', '2', '6', '12'],\n",
      "                    coxsmy_list_m):\n",
      "    print \"Coefficients\"\n",
      "    print \"Male, Yeast level: %s\"%yst\n",
      "    print mld.rx2('conf.int')"
     ],
     "language": "python",
     "metadata": {},
     "outputs": [
      {
       "output_type": "stream",
       "stream": "stdout",
       "text": [
        "Coefficients\n",
        "Male, Yeast level: 0\n",
        "         exp(coef) exp(-coef) lower .95 upper .95\n",
        "Linesm21 0.9853888  1.0148278 0.8409015  1.154703\n",
        "Linesm22 1.0114956  0.9886350 0.8589585  1.191121\n",
        "Linesm38 1.2974249  0.7707575 1.1192356  1.503983\n",
        "\n",
        "Coefficients\n",
        "Male, Yeast level: 2\n",
        "         exp(coef) exp(-coef) lower .95 upper .95\n",
        "Linesm21  2.452399  0.4077640  2.056515  2.924491\n",
        "Linesm22  2.040624  0.4900461  1.704426  2.443138\n",
        "Linesm38  1.756849  0.5692008  1.450507  2.127890\n",
        "\n",
        "Coefficients\n",
        "Male, Yeast level: 6\n",
        "         exp(coef) exp(-coef) lower .95 upper .95\n",
        "Linesm21 0.8440622  1.1847469 0.7055805 1.0097231\n",
        "Linesm22 0.7404093  1.3506044 0.6282056 0.8726536\n",
        "Linesm38 1.6669355  0.5999032 1.4026250 1.9810526\n",
        "\n",
        "Coefficients\n",
        "Male, Yeast level: 12\n",
        "         exp(coef) exp(-coef) lower .95 upper .95\n",
        "Linesm21 0.4826883  2.0717304 0.4072494 0.5721015\n",
        "Linesm22 0.8965516  1.1153848 0.7707803 1.0428455\n",
        "Linesm38 1.5147696  0.6601664 1.2825219 1.7890742\n",
        "\n"
       ]
      }
     ],
     "prompt_number": 14
    },
    {
     "cell_type": "markdown",
     "metadata": {},
     "source": [
      "#Females and Males on 2% and 6% diets\n",
      "#Proportional Hazard Assumption rejected `Yeast*mtDNA*Sex` model"
     ]
    },
    {
     "cell_type": "code",
     "collapsed": false,
     "input": [
      "_df = df.ix[(df.Yeast_str.apply(lambda x: x in ['2%', '6%']))]\n",
      "_df['Yeast_str'] = _df.Yeast_str.apply(lambda x: x.replace('6%', '_6%'))\n",
      "_df['mtDNA'] = _df.mtDNA.apply(lambda x: x.replace('xmel', '_mel'))\n",
      "_df.to_csv('temp.csv', index=None)\n",
      "robjects.reval(\"df = read.csv('temp.csv')\")\n",
      "robjects.reval('f0 = coxph(Surv(Day, event=1-Censor)~1+Yeast_str*mtDNA*Sex, data=df)')\n",
      "robjects.reval(\"z0 = cox.zph(f0)\")\n",
      "robjects.reval(\"s0 = summary(f0)\")\n",
      "\n",
      "print \"Grambsh & Therneau Test for Proptional Hazard\"\n",
      "print robjects.r.z0\n",
      "print robjects.r.f0\n",
      "print robjects.r.s0"
     ],
     "language": "python",
     "metadata": {},
     "outputs": [
      {
       "output_type": "stream",
       "stream": "stdout",
       "text": [
        "Grambsh & Therneau Test for Proptional Hazard\n",
        "                                rho    chisq       p\n",
        "Yeast_str2%                0.028499 3.26e+00 0.07087\n",
        "mtDNAsim                  -0.000349 4.93e-04 0.98228\n",
        "SexM                      -0.010219 4.23e-01 0.51544\n",
        "Yeast_str2%:mtDNAsim      -0.003814 5.93e-02 0.80756\n",
        "Yeast_str2%:SexM           0.010456 4.47e-01 0.50393\n",
        "mtDNAsim:SexM              0.019183 1.49e+00 0.22262\n",
        "Yeast_str2%:mtDNAsim:SexM -0.009129 3.39e-01 0.56060\n",
        "GLOBAL                           NA 2.65e+01 0.00041\n",
        "\n",
        "Call:\n",
        "coxph(formula = Surv(Day, event = 1 - Censor) ~ 1 + Yeast_str * \n",
        "    mtDNA * Sex, data = df)\n",
        "\n",
        "\n",
        "                             coef exp(coef) se(coef)       z     p\n",
        "Yeast_str2%               -2.1093     0.121   0.0910 -23.179 0.000\n",
        "mtDNAsim                  -0.0430     0.958   0.0710  -0.605 0.550\n",
        "SexM                      -0.7256     0.484   0.0860  -8.438 0.000\n",
        "Yeast_str2%:mtDNAsim       0.9663     2.628   0.1030   9.386 0.000\n",
        "Yeast_str2%:SexM           1.0654     2.902   0.1215   8.772 0.000\n",
        "mtDNAsim:SexM              0.0156     1.016   0.0997   0.156 0.880\n",
        "Yeast_str2%:mtDNAsim:SexM -0.2897     0.748   0.1418  -2.044 0.041\n",
        "\n",
        "Likelihood ratio test=1227  on 7 df, p=0  n= 4413, number of events= 4034 \n",
        "\n",
        "Call:\n",
        "coxph(formula = Surv(Day, event = 1 - Censor) ~ 1 + Yeast_str * \n",
        "    mtDNA * Sex, data = df)\n",
        "\n",
        "  n= 4413, number of events= 4034 \n",
        "\n",
        "                              coef exp(coef) se(coef)       z Pr(>|z|)    \n",
        "Yeast_str2%               -2.10932   0.12132  0.09100 -23.179   <2e-16 ***\n",
        "mtDNAsim                  -0.04299   0.95792  0.07103  -0.605    0.545    \n",
        "SexM                      -0.72559   0.48404  0.08599  -8.438   <2e-16 ***\n",
        "Yeast_str2%:mtDNAsim       0.96632   2.62826  0.10296   9.386   <2e-16 ***\n",
        "Yeast_str2%:SexM           1.06543   2.90208  0.12146   8.772   <2e-16 ***\n",
        "mtDNAsim:SexM              0.01556   1.01568  0.09970   0.156    0.876    \n",
        "Yeast_str2%:mtDNAsim:SexM -0.28970   0.74849  0.14176  -2.044    0.041 *  \n",
        "---\n",
        "Signif. codes:  0 \u2018***\u2019 0.001 \u2018**\u2019 0.01 \u2018*\u2019 0.05 \u2018.\u2019 0.1 \u2018 \u2019 1\n",
        "\n",
        "                          exp(coef) exp(-coef) lower .95 upper .95\n",
        "Yeast_str2%                  0.1213     8.2426    0.1015    0.1450\n",
        "mtDNAsim                     0.9579     1.0439    0.8334    1.1010\n",
        "SexM                         0.4840     2.0660    0.4090    0.5729\n",
        "Yeast_str2%:mtDNAsim         2.6283     0.3805    2.1480    3.2159\n",
        "Yeast_str2%:SexM             2.9021     0.3446    2.2873    3.6821\n",
        "mtDNAsim:SexM                1.0157     0.9846    0.8354    1.2349\n",
        "Yeast_str2%:mtDNAsim:SexM    0.7485     1.3360    0.5669    0.9882\n",
        "\n",
        "Concordance= 0.669  (se = 0.006 )\n",
        "Rsquare= 0.243   (max possible= 1 )\n",
        "Likelihood ratio test= 1227  on 7 df,   p=0\n",
        "Wald test            = 1194  on 7 df,   p=0\n",
        "Score (logrank) test = 1324  on 7 df,   p=0\n",
        "\n",
        "\n"
       ]
      },
      {
       "output_type": "stream",
       "stream": "stderr",
       "text": [
        "-c:2: SettingWithCopyWarning: A value is trying to be set on a copy of a slice from a DataFrame.\n",
        "Try using .loc[row_index,col_indexer] = value instead\n",
        "-c:3: SettingWithCopyWarning: A value is trying to be set on a copy of a slice from a DataFrame.\n",
        "Try using .loc[row_index,col_indexer] = value instead\n"
       ]
      }
     ],
     "prompt_number": 15
    },
    {
     "cell_type": "markdown",
     "metadata": {},
     "source": [
      "#Females and Males on 2% and 6% diets\n",
      "#Proportional Hazard Assumption rejected `Yeast*mtDNA` model\n",
      "#None of the parameter estimates nor the SE matchs Table1"
     ]
    },
    {
     "cell_type": "code",
     "collapsed": false,
     "input": [
      "robjects.reval('f1 = coxph(Surv(Day, event=1-Censor)~1+Yeast_str*mtDNA, data=df)')\n",
      "robjects.reval(\"z1 = cox.zph(f1)\")\n",
      "robjects.reval(\"s1 = summary(f1)\")\n",
      "\n",
      "print \"Grambsh & Therneau Test for Proptional Hazard\"\n",
      "print robjects.r.z1\n",
      "print robjects.r.f1\n",
      "print robjects.r.s1"
     ],
     "language": "python",
     "metadata": {},
     "outputs": [
      {
       "output_type": "stream",
       "stream": "stdout",
       "text": [
        "Grambsh & Therneau Test for Proptional Hazard\n",
        "                         rho chisq        p\n",
        "Yeast_str2%           0.0754 21.80 3.03e-06\n",
        "mtDNAsim              0.0218  1.92 1.66e-01\n",
        "Yeast_str2%:mtDNAsim -0.0158  1.00 3.17e-01\n",
        "GLOBAL                    NA 55.79 4.67e-12\n",
        "\n",
        "Call:\n",
        "coxph(formula = Surv(Day, event = 1 - Censor) ~ 1 + Yeast_str * \n",
        "    mtDNA, data = df)\n",
        "\n",
        "\n",
        "                        coef exp(coef) se(coef)       z    p\n",
        "Yeast_str2%          -1.4621     0.232   0.0635 -23.041 0.00\n",
        "mtDNAsim             -0.0283     0.972   0.0499  -0.568 0.57\n",
        "Yeast_str2%:mtDNAsim  0.7934     2.211   0.0724  10.956 0.00\n",
        "\n",
        "Likelihood ratio test=963  on 3 df, p=0  n= 4413, number of events= 4034 \n",
        "\n",
        "Call:\n",
        "coxph(formula = Surv(Day, event = 1 - Censor) ~ 1 + Yeast_str * \n",
        "    mtDNA, data = df)\n",
        "\n",
        "  n= 4413, number of events= 4034 \n",
        "\n",
        "                         coef exp(coef) se(coef)       z Pr(>|z|)    \n",
        "Yeast_str2%          -1.46210   0.23175  0.06346 -23.041   <2e-16 ***\n",
        "mtDNAsim             -0.02832   0.97208  0.04986  -0.568     0.57    \n",
        "Yeast_str2%:mtDNAsim  0.79339   2.21088  0.07242  10.956   <2e-16 ***\n",
        "---\n",
        "Signif. codes:  0 \u2018***\u2019 0.001 \u2018**\u2019 0.01 \u2018*\u2019 0.05 \u2018.\u2019 0.1 \u2018 \u2019 1\n",
        "\n",
        "                     exp(coef) exp(-coef) lower .95 upper .95\n",
        "Yeast_str2%             0.2317     4.3150    0.2046    0.2624\n",
        "mtDNAsim                0.9721     1.0287    0.8816    1.0719\n",
        "Yeast_str2%:mtDNAsim    2.2109     0.4523    1.9183    2.5480\n",
        "\n",
        "Concordance= 0.645  (se = 0.005 )\n",
        "Rsquare= 0.196   (max possible= 1 )\n",
        "Likelihood ratio test= 962.6  on 3 df,   p=0\n",
        "Wald test            = 881.5  on 3 df,   p=0\n",
        "Score (logrank) test = 947.5  on 3 df,   p=0\n",
        "\n",
        "\n"
       ]
      }
     ],
     "prompt_number": 16
    },
    {
     "cell_type": "markdown",
     "metadata": {},
     "source": [
      "#`Sex` is a significant term"
     ]
    },
    {
     "cell_type": "code",
     "collapsed": false,
     "input": [
      "robjects.reval(\"a = anova(f0, f1)\")\n",
      "print robjects.r.a"
     ],
     "language": "python",
     "metadata": {},
     "outputs": [
      {
       "output_type": "stream",
       "stream": "stdout",
       "text": [
        "Analysis of Deviance Table\n",
        " Cox model: response is  Surv(Day, event = 1 - Censor)\n",
        " Model 1: ~ 1 + Yeast_str * mtDNA * Sex\n",
        " Model 2: ~ 1 + Yeast_str * mtDNA\n",
        "  loglik  Chisq Df P(>|Chi|)    \n",
        "1 -28850                        \n",
        "2 -28982 263.95  4 < 2.2e-16 ***\n",
        "---\n",
        "Signif. codes:  0 \u2018***\u2019 0.001 \u2018**\u2019 0.01 \u2018*\u2019 0.05 \u2018.\u2019 0.1 \u2018 \u2019 1\n",
        "\n"
       ]
      }
     ],
     "prompt_number": 17
    },
    {
     "cell_type": "markdown",
     "metadata": {},
     "source": [
      "#The reason numbers don't much is not due to `JMP` `R` difference.\n",
      "#I don't have `JMP`, but `SAS` and `JMP` shares the backend, and `SAS` gives the same numbers as `R`, within reasonable margins of numerical difference"
     ]
    },
    {
     "cell_type": "code",
     "collapsed": false,
     "input": [
      "#compare to SAS result, in SAS 8.x, phreg only support continuous covariates, not factors\n",
      "robjects.reval('f1 = coxph(Surv(Day, event=1-Censor)~1+Yeast, data=df, ties=\"breslow\")')\n",
      "robjects.reval(\"z1 = cox.zph(f1)\")\n",
      "robjects.reval(\"s1 = summary(f1)\")\n",
      "\n",
      "print \"Grambsh & Therneau Test for Proptional Hazard\"\n",
      "print robjects.r.z1\n",
      "print robjects.r.f1\n",
      "print robjects.r.s1"
     ],
     "language": "python",
     "metadata": {},
     "outputs": [
      {
       "output_type": "stream",
       "stream": "stdout",
       "text": [
        "Grambsh & Therneau Test for Proptional Hazard\n",
        "          rho chisq        p\n",
        "Yeast -0.0963  34.9 3.48e-09\n",
        "\n",
        "Call:\n",
        "coxph(formula = Surv(Day, event = 1 - Censor) ~ 1 + Yeast, data = df, \n",
        "    ties = \"breslow\")\n",
        "\n",
        "\n",
        "      coef exp(coef) se(coef)    z p\n",
        "Yeast 21.6  2.46e+09    0.836 25.9 0\n",
        "\n",
        "Likelihood ratio test=664  on 1 df, p=0  n= 4413, number of events= 4034 \n",
        "\n",
        "Call:\n",
        "coxph(formula = Surv(Day, event = 1 - Censor) ~ 1 + Yeast, data = df, \n",
        "    ties = \"breslow\")\n",
        "\n",
        "  n= 4413, number of events= 4034 \n",
        "\n",
        "           coef exp(coef)  se(coef)     z Pr(>|z|)    \n",
        "Yeast 2.162e+01 2.461e+09 8.357e-01 25.87   <2e-16 ***\n",
        "---\n",
        "Signif. codes:  0 \u2018***\u2019 0.001 \u2018**\u2019 0.01 \u2018*\u2019 0.05 \u2018.\u2019 0.1 \u2018 \u2019 1\n",
        "\n",
        "      exp(coef) exp(-coef) lower .95 upper .95\n",
        "Yeast 2.461e+09  4.063e-10 478325582 1.266e+10\n",
        "\n",
        "Concordance= 0.623  (se = 0.005 )\n",
        "Rsquare= 0.14   (max possible= 1 )\n",
        "Likelihood ratio test= 663.5  on 1 df,   p=0\n",
        "Wald test            = 669.4  on 1 df,   p=0\n",
        "Score (logrank) test = 702.5  on 1 df,   p=0\n",
        "\n",
        "\n"
       ]
      }
     ],
     "prompt_number": 18
    },
    {
     "cell_type": "markdown",
     "metadata": {},
     "source": [
      "#`SAS` code:"
     ]
    },
    {
     "cell_type": "markdown",
     "metadata": {},
     "source": [
      "    /*SAS 8.x code:*/\n",
      "    proc import datafile=\"Y:\\IPython_NB\\temp.csv\"\n",
      "        out=lf_data\n",
      "        dbms=csv\n",
      "        replace;\n",
      "    run;\n",
      "\n",
      "    proc phreg data=lf_data;\n",
      "        model Day*Censor(1)=Yeast;\n",
      "    run;"
     ]
    },
    {
     "cell_type": "markdown",
     "metadata": {},
     "source": [
      "                                         The SAS System     15:12 Saturday, January 16, 2015   7\n",
      "                                      The PHREG Procedure\n",
      "                                       Model Information\n",
      "\n",
      "                             Data Set                 WORK.LF_DATA\n",
      "                             Dependent Variable       Day\n",
      "                             Censoring Variable       Censor\n",
      "                             Censoring Value(s)       1\n",
      "                             Ties Handling            BRESLOW\n",
      "\n",
      "\n",
      "                       Summary of the Number of Event and Censored Values\n",
      "                                                               Percent\n",
      "                             Total       Event    Censored    Censored\n",
      "                              4413        4034         379        8.59\n",
      "\n",
      "\n",
      "                                       Convergence Status\n",
      "                         Convergence criterion (GCONV=1E-8) satisfied.\n",
      "\n",
      "\n",
      "                                     Model Fit Statistics\n",
      "                                             Without           With\n",
      "                            Criterion     Covariates     Covariates\n",
      "                            -2 LOG L       59442.189      58778.638\n",
      "                            AIC            59442.189      58780.638\n",
      "                            SBC            59442.189      58786.941\n",
      "\n",
      "\n",
      "                            Testing Global Null Hypothesis: BETA=0\n",
      "                    Test                 Chi-Square       DF     Pr > ChiSq\n",
      "                    Likelihood Ratio       663.5511        1         <.0001\n",
      "                    Score                  702.4664        1         <.0001\n",
      "                    Wald                   669.2353        1         <.0001\n",
      "\n",
      "\n",
      "                            Analysis of Maximum Likelihood Estimates\n",
      "\n",
      "                          Parameter      Standard                                  Hazard\n",
      "       Variable    DF      Estimate         Error    Chi-Square    Pr > ChiSq       Ratio\n",
      "       Yeast        1      21.62038       0.83575      669.2353        <.0001    2.4525E9\n"
     ]
    },
    {
     "cell_type": "code",
     "collapsed": false,
     "input": [
      "list(robjects.r.f1.names)"
     ],
     "language": "python",
     "metadata": {},
     "outputs": [
      {
       "metadata": {},
       "output_type": "pyout",
       "prompt_number": 19,
       "text": [
        "['coefficients',\n",
        " 'var',\n",
        " 'loglik',\n",
        " 'score',\n",
        " 'iter',\n",
        " 'linear.predictors',\n",
        " 'residuals',\n",
        " 'means',\n",
        " 'concordance',\n",
        " 'method',\n",
        " 'n',\n",
        " 'nevent',\n",
        " 'terms',\n",
        " 'assign',\n",
        " 'wald.test',\n",
        " 'y',\n",
        " 'formula',\n",
        " 'call']"
       ]
      }
     ],
     "prompt_number": 19
    },
    {
     "cell_type": "code",
     "collapsed": false,
     "input": [],
     "language": "python",
     "metadata": {},
     "outputs": [],
     "prompt_number": 19
    }
   ],
   "metadata": {}
  }
 ]
}